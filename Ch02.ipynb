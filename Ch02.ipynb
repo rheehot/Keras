{
 "cells": [
  {
   "cell_type": "markdown",
   "metadata": {},
   "source": [
    "### 신경망 시작하기\n",
    "이번 Post에서는 크게 **1) 영화 리부 분류(이진 분류 문제) 2) 뉴스 기사 분류(다중 분류 문제) 3) 주택 가격 예측(회귀 문제)** 를 다룬다.  \n",
    "\n",
    "1, 2의 문제 같은경우 Text를 기반으로 분류 문제를 실시한다.(NLP)  \n",
    "이에 관하여 알아두면 좋은 Post는 아래 링크를 참조하자.  \n",
    "1. <a href=\"https://wjddyd66.github.io/dl/%EC%9E%90%EC%97%B0%EC%96%B4%EC%99%80-%EB%8B%A8%EC%96%B4%EC%9D%98-%EB%B6%84%EC%82%B0-%ED%91%9C%ED%98%84/\">자연어와 단어의 분산 표현</a>\n",
    "2. <a href=\"https://wjddyd66.github.io/dl/KoNLPy/\">KoNLPy</a>\n",
    "3. <a href=\"https://wjddyd66.github.io/dl/word2vec/\">word2vec</a>\n",
    "4. <a href=\"https://wjddyd66.github.io/dl/Fast-word2vec/\">Fast word2vec</a>\n",
    "\n",
    "<br>\n",
    "3의 문제에 대하여 미리 알아두면 좋은 Post는 아래 링크를 참조하자.\n",
    "1. <a href=\"https://wjddyd66.github.io/r/Classfication/\">R-분류분석</a>\n",
    "\n",
    "처음 Post에서도 언급하였듯이 자세한 수식이나 원리에 대해서는 미리 Post한 곳을 참조하고 Keras Category에서는 최대한 Keras 사용법에 집중한다.\n",
    "\n",
    "<br><br>\n",
    "#### 필요한 라이브러리 Import"
   ]
  },
  {
   "cell_type": "code",
   "execution_count": null,
   "metadata": {},
   "outputs": [],
   "source": [
    "import numpy as np\n",
    "import matplotlib.pyplot as plt\n",
    "from keras import models\n",
    "from keras import layers\n",
    "\n",
    "from keras.datasets import imdb\n",
    "from keras.datasets import reuters\n",
    "from keras.datasets import boston_housing"
   ]
  },
  {
   "cell_type": "markdown",
   "metadata": {},
   "source": [
    "### 영화 리뷰 분류(이진 분류 예제)\n",
    "\n",
    "#### IMDB 데이터셋 다운로드\n",
    "Keras에서 지원하는 <code>kereas.datasets</code>중에서 영화 리뷰 분류를 위하여 imdb Dataset을 활용한다.  \n",
    "imdb Dataset은 인터넷 영화 데이터베이스로부터 가져온 양그단의 리뷰 5만 개로 이루어진 데이터 셋이다.  \n",
    "<code>imdb.load_data(num_words=10000)</code>으로서 Word의 개수를 10000개로 제한한다. 즉, 많이 사용하는 단어 10000개만을 사용한다는 뜻이다.  \n",
    "이렇게 되면 **Vocab의 개수는 10000개로서 정의된다.**  \n",
    "- train_data: Vocab 의 Index로서 표현된 Data이다.\n",
    "- train_labels: 0: 부정, 1: 긍정\n"
   ]
  },
  {
   "cell_type": "code",
   "execution_count": 70,
   "metadata": {},
   "outputs": [
    {
     "name": "stdout",
     "output_type": "stream",
     "text": [
      "[1, 14, 22, 16, 43, 530, 973, 1622, 1385, 65, 458, 4468, 66, 3941, 4, 173, 36, 256, 5, 25, 100, 43, 838, 112, 50, 670, 2, 9, 35, 480, 284, 5, 150, 4, 172, 112, 167, 2, 336, 385, 39, 4, 172, 4536, 1111, 17, 546, 38, 13, 447, 4, 192, 50, 16, 6, 147, 2025, 19, 14, 22, 4, 1920, 4613, 469, 4, 22, 71, 87, 12, 16, 43, 530, 38, 76, 15, 13, 1247, 4, 22, 17, 515, 17, 12, 16, 626, 18, 2, 5, 62, 386, 12, 8, 316, 8, 106, 5, 4, 2223, 5244, 16, 480, 66, 3785, 33, 4, 130, 12, 16, 38, 619, 5, 25, 124, 51, 36, 135, 48, 25, 1415, 33, 6, 22, 12, 215, 28, 77, 52, 5, 14, 407, 16, 82, 2, 8, 4, 107, 117, 5952, 15, 256, 4, 2, 7, 3766, 5, 723, 36, 71, 43, 530, 476, 26, 400, 317, 46, 7, 4, 2, 1029, 13, 104, 88, 4, 381, 15, 297, 98, 32, 2071, 56, 26, 141, 6, 194, 7486, 18, 4, 226, 22, 21, 134, 476, 26, 480, 5, 144, 30, 5535, 18, 51, 36, 28, 224, 92, 25, 104, 4, 226, 65, 16, 38, 1334, 88, 12, 16, 283, 5, 16, 4472, 113, 103, 32, 15, 16, 5345, 19, 178, 32]\n",
      "1\n",
      "9999\n"
     ]
    }
   ],
   "source": [
    "(train_data,train_labels),(test_data,test_labels) = imdb.load_data(num_words=10000)\n",
    "print(train_data[0]) # Train Data 확인\n",
    "print(train_labels[0]) # Train Label 확인\n",
    "print(max([max(sequence) for sequence in train_data])) #Vocab 최대 Index 확인"
   ]
  },
  {
   "cell_type": "markdown",
   "metadata": {},
   "source": [
    "#### 데이터셋 변환\n",
    "Dataset을 여기서는 One-hot Vector로서 Encoding을 실시한다.  \n",
    "즉 Train_Data를 10000 Dimension의 Zero Vector로 만든 뒤 단어가 존재하는 Index만을 1로서 표현한다."
   ]
  },
  {
   "cell_type": "code",
   "execution_count": 71,
   "metadata": {},
   "outputs": [
    {
     "name": "stdout",
     "output_type": "stream",
     "text": [
      "[0. 1. 1. ... 0. 0. 0.]\n",
      "(25000, 10000)\n"
     ]
    }
   ],
   "source": [
    "def vectorize_sequences(sequences, dimension=10000):\n",
    "    results = np.zeros((len(sequences),dimension))\n",
    "    for i,sequence in enumerate(sequences):\n",
    "        results[i,sequence] = 1.\n",
    "    return results\n",
    "\n",
    "x_train = vectorize_sequences(train_data)\n",
    "x_test = vectorize_sequences(test_data)\n",
    "y_train = np.asarray(train_labels).astype('float32')\n",
    "y_test = np.asarray(test_labels).astype('float32')\n",
    "\n",
    "print(x_train[0])\n",
    "print(x_train.shape)"
   ]
  },
  {
   "cell_type": "markdown",
   "metadata": {},
   "source": [
    "#### Model만들기\n",
    "Input_shape는 One-hot Vector의 Dimension인 10000으로 정의  \n",
    "Model중간에 Layers를 추가하는 것은 그저 비선형을 증가시키기 위한 과정  \n",
    "Model 마지막 output은 0 or 1로서 표현해야 하므로 Activation Function을 Sigmoid로 선언"
   ]
  },
  {
   "cell_type": "code",
   "execution_count": 72,
   "metadata": {},
   "outputs": [
    {
     "name": "stdout",
     "output_type": "stream",
     "text": [
      "Model: \"sequential_22\"\n",
      "_________________________________________________________________\n",
      "Layer (type)                 Output Shape              Param #   \n",
      "=================================================================\n",
      "dense_49 (Dense)             (None, 16)                160016    \n",
      "_________________________________________________________________\n",
      "dense_50 (Dense)             (None, 16)                272       \n",
      "_________________________________________________________________\n",
      "dense_51 (Dense)             (None, 1)                 17        \n",
      "=================================================================\n",
      "Total params: 160,305\n",
      "Trainable params: 160,305\n",
      "Non-trainable params: 0\n",
      "_________________________________________________________________\n",
      "None\n"
     ]
    }
   ],
   "source": [
    "model = models.Sequential()\n",
    "model.add(layers.Dense(16,activation='relu',input_shape=(10000,)))\n",
    "model.add(layers.Dense(16,activation='relu'))\n",
    "model.add(layers.Dense(1,activation='sigmoid'))\n",
    "print(model.summary())"
   ]
  },
  {
   "cell_type": "markdown",
   "metadata": {},
   "source": [
    "#### Compile 설정\n",
    "- Optimizer: rmsprop\n",
    "- Loss Function: binary_crossentropy(0 or 1로서 Classification하므로)\n",
    "- metrics: 정확도에 대해서 Monitoring\n"
   ]
  },
  {
   "cell_type": "code",
   "execution_count": 73,
   "metadata": {},
   "outputs": [],
   "source": [
    "model.compile(optimizer='rmsprop',loss='binary_crossentropy',metrics=['accuracy'])"
   ]
  },
  {
   "cell_type": "markdown",
   "metadata": {},
   "source": [
    "#### Validation Dataset\n",
    "훈련 검증을 위하여 Validation Dataset을 준비"
   ]
  },
  {
   "cell_type": "code",
   "execution_count": 74,
   "metadata": {},
   "outputs": [],
   "source": [
    "x_val = x_train[:10000]\n",
    "partial_x_train = x_train[10000:]\n",
    "y_val = y_train[:10000]\n",
    "partial_y_train = y_train[10000:]"
   ]
  },
  {
   "cell_type": "markdown",
   "metadata": {},
   "source": [
    "#### Trainning\n",
    "Trainning의 결과(<code>model.fit()</code>)를 하나의 객체로서 반환할 수 있다.  \n",
    "**History는 Trainning에서 발생한 모든 정보를 Dictionary 형태로서 가지고 있다.**  \n",
    "또하나의 **Keras의 매력적인 점은 Validation Data를 <code>model.fit()</code>에 Parameter로서 넣어서 따로 Validation과정을 거치지 않아도 된다는 것이다.**"
   ]
  },
  {
   "cell_type": "code",
   "execution_count": 75,
   "metadata": {
    "scrolled": true
   },
   "outputs": [
    {
     "name": "stdout",
     "output_type": "stream",
     "text": [
      "Train on 15000 samples, validate on 10000 samples\n",
      "Epoch 1/20\n",
      "15000/15000 [==============================] - 1s 85us/step - loss: 0.5425 - accuracy: 0.7787 - val_loss: 0.4426 - val_accuracy: 0.8304\n",
      "Epoch 2/20\n",
      "15000/15000 [==============================] - 1s 57us/step - loss: 0.3420 - accuracy: 0.8961 - val_loss: 0.3306 - val_accuracy: 0.8812\n",
      "Epoch 3/20\n",
      "15000/15000 [==============================] - 1s 55us/step - loss: 0.2504 - accuracy: 0.9221 - val_loss: 0.2956 - val_accuracy: 0.8832\n",
      "Epoch 4/20\n",
      "15000/15000 [==============================] - 1s 46us/step - loss: 0.1961 - accuracy: 0.9381 - val_loss: 0.2792 - val_accuracy: 0.8895\n",
      "Epoch 5/20\n",
      "15000/15000 [==============================] - 1s 44us/step - loss: 0.1586 - accuracy: 0.9488 - val_loss: 0.3168 - val_accuracy: 0.8745\n",
      "Epoch 6/20\n",
      "15000/15000 [==============================] - 1s 50us/step - loss: 0.1296 - accuracy: 0.9595 - val_loss: 0.3011 - val_accuracy: 0.8821\n",
      "Epoch 7/20\n",
      "15000/15000 [==============================] - 1s 53us/step - loss: 0.1117 - accuracy: 0.9643 - val_loss: 0.3288 - val_accuracy: 0.8753\n",
      "Epoch 8/20\n",
      "15000/15000 [==============================] - 1s 54us/step - loss: 0.0919 - accuracy: 0.9734 - val_loss: 0.3242 - val_accuracy: 0.8833\n",
      "Epoch 9/20\n",
      "15000/15000 [==============================] - 1s 81us/step - loss: 0.0763 - accuracy: 0.9801 - val_loss: 0.3380 - val_accuracy: 0.8833\n",
      "Epoch 10/20\n",
      "15000/15000 [==============================] - 1s 62us/step - loss: 0.0649 - accuracy: 0.9827 - val_loss: 0.3891 - val_accuracy: 0.8729\n",
      "Epoch 11/20\n",
      "15000/15000 [==============================] - 1s 85us/step - loss: 0.0545 - accuracy: 0.9867 - val_loss: 0.3986 - val_accuracy: 0.8711\n",
      "Epoch 12/20\n",
      "15000/15000 [==============================] - 1s 80us/step - loss: 0.0425 - accuracy: 0.9912 - val_loss: 0.4629 - val_accuracy: 0.8638\n",
      "Epoch 13/20\n",
      "15000/15000 [==============================] - 1s 82us/step - loss: 0.0371 - accuracy: 0.9924 - val_loss: 0.4418 - val_accuracy: 0.8720\n",
      "Epoch 14/20\n",
      "15000/15000 [==============================] - 1s 66us/step - loss: 0.0302 - accuracy: 0.9950 - val_loss: 0.4677 - val_accuracy: 0.8724\n",
      "Epoch 15/20\n",
      "15000/15000 [==============================] - 1s 82us/step - loss: 0.0250 - accuracy: 0.9951 - val_loss: 0.5001 - val_accuracy: 0.8711\n",
      "Epoch 16/20\n",
      "15000/15000 [==============================] - 1s 66us/step - loss: 0.0173 - accuracy: 0.9982 - val_loss: 0.5689 - val_accuracy: 0.8627\n",
      "Epoch 17/20\n",
      "15000/15000 [==============================] - 1s 69us/step - loss: 0.0160 - accuracy: 0.9978 - val_loss: 0.5655 - val_accuracy: 0.8692\n",
      "Epoch 18/20\n",
      "15000/15000 [==============================] - 1s 60us/step - loss: 0.0127 - accuracy: 0.9991 - val_loss: 0.6006 - val_accuracy: 0.8687\n",
      "Epoch 19/20\n",
      "15000/15000 [==============================] - 1s 60us/step - loss: 0.0108 - accuracy: 0.9987 - val_loss: 0.6356 - val_accuracy: 0.8673\n",
      "Epoch 20/20\n",
      "15000/15000 [==============================] - 1s 58us/step - loss: 0.0061 - accuracy: 0.9997 - val_loss: 0.6996 - val_accuracy: 0.8609\n"
     ]
    }
   ],
   "source": [
    "history = model.fit(partial_x_train,partial_y_train,epochs=20,batch_size=512,validation_data=(x_val,y_val))"
   ]
  },
  {
   "cell_type": "markdown",
   "metadata": {},
   "source": [
    "#### Trainning & Validation Loss Visualization\n",
    "history(<code>model.fit()</code>의 결과)를 활용하여서 Loss를 Visualization하는 과정이다.\n",
    "matplotlib을 사용하므로 matplotlib에 대해서 사전지식이 없으면 아래 링크를 참조하다.  \n",
    "<a href=\"https://wjddyd66.github.io/dataanalysis/Matplotlib/\">Matplotlib</a>"
   ]
  },
  {
   "cell_type": "code",
   "execution_count": 76,
   "metadata": {},
   "outputs": [
    {
     "name": "stdout",
     "output_type": "stream",
     "text": [
      "['loss', 'val_accuracy', 'val_loss', 'accuracy']\n"
     ]
    },
    {
     "data": {
      "image/png": "[encoded data removed]",
      "text/plain": [
       "<Figure size 432x288 with 1 Axes>"
      ]
     },
     "metadata": {
      "needs_background": "light"
     },
     "output_type": "display_data"
    }
   ],
   "source": [
    "history_dict = history.history\n",
    "print(history_dict.keys())\n",
    "\n",
    "loss = history_dict['loss']\n",
    "val_loss = history_dict['val_loss']\n",
    "\n",
    "epoch = range(1,len(loss)+1)\n",
    "\n",
    "plt.plot(epoch,loss,'bo',label='Training Loss')\n",
    "plt.plot(epoch,val_loss,'b',label='Validation Loss')\n",
    "plt.title('Training and Validation Loss Visualization')\n",
    "plt.xlabel('Epoch')\n",
    "plt.ylabel('Loss')\n",
    "plt.legend()\n",
    "plt.show()"
   ]
  },
  {
   "cell_type": "markdown",
   "metadata": {},
   "source": [
    "#### Trainning & Validation Accuracy Visualization"
   ]
  },
  {
   "cell_type": "code",
   "execution_count": 77,
   "metadata": {},
   "outputs": [
    {
     "data": {
      "image/png": "[encoded data removed]",
      "text/plain": [
       "<Figure size 432x288 with 1 Axes>"
      ]
     },
     "metadata": {
      "needs_background": "light"
     },
     "output_type": "display_data"
    }
   ],
   "source": [
    "plt.clf() # 그래프를 초기화\n",
    "accuracy = history_dict['accuracy']\n",
    "val_accuracy = history_dict['val_accuracy']\n",
    "\n",
    "epoch = range(1,len(loss)+1)\n",
    "\n",
    "plt.plot(epoch,accuracy,'bo',label='Training accuracy')\n",
    "plt.plot(epoch,val_accuracy,'b',label='Validation accuracy')\n",
    "plt.title('Training and Validation accuracy Visualization')\n",
    "plt.xlabel('Epoch')\n",
    "plt.ylabel('Accuracy')\n",
    "plt.legend()\n",
    "plt.show()"
   ]
  },
  {
   "cell_type": "markdown",
   "metadata": {},
   "source": [
    "**위의 결과로서 Training의 Accuracy는 증가 되고 Loss는 줄어드는 것을 확인 할 수 있지만 Validation의 결과는 반대인 것을 알 수 있다. 이것으로 인하여 Overfitting이 일어났다는 것을 알 수 있다.**  \n",
    "\n",
    "#### Model ReTrainning & Test\n",
    "Visualization결과 Epoch가 5이상부터 급격하게 Overfitting일 일어나는 것을 확인하였으므로 Epoch를 4로 설정한뒤 Training을 다시 한다.  \n",
    "또한 Training된 Model을 알아보는 2가지 방법또한 알아보자.\n",
    "- <code>model.evaluate(x_text,y_test)</code>: Input, Label을 Parameter로서 주어지면 Return을 [Loss,Accuracy]로서 Training된 Model의 결과를 출력한다. Input과 그에대한 **Output을 알아야 하므로 Test Data를 평가할 때 사용한다.**\n",
    "- <code>model.evaluate(x_text)</code>: Input을 Parameter로서 주어지면 Return을 Label로서 Training되 Model의 결과를 출력한다. **Label을 알아내는 것이므로 새로운 Data가 평가할 때 사용한다.**\n"
   ]
  },
  {
   "cell_type": "code",
   "execution_count": 9,
   "metadata": {},
   "outputs": [
    {
     "name": "stdout",
     "output_type": "stream",
     "text": [
      "Train on 15000 samples, validate on 10000 samples\n",
      "Epoch 1/4\n",
      "15000/15000 [==============================] - 1s 75us/step - loss: 0.5326 - accuracy: 0.7777 - val_loss: 0.4306 - val_accuracy: 0.8305\n",
      "Epoch 2/4\n",
      "15000/15000 [==============================] - 1s 62us/step - loss: 0.3189 - accuracy: 0.8989 - val_loss: 0.3341 - val_accuracy: 0.8716\n",
      "Epoch 3/4\n",
      "15000/15000 [==============================] - 1s 51us/step - loss: 0.2348 - accuracy: 0.9221 - val_loss: 0.3022 - val_accuracy: 0.8780\n",
      "Epoch 4/4\n",
      "15000/15000 [==============================] - 1s 52us/step - loss: 0.1848 - accuracy: 0.9411 - val_loss: 0.2726 - val_accuracy: 0.8918\n",
      "25000/25000 [==============================] - 1s 56us/step\n",
      "[0.2919962071228027, 0.8827599883079529]\n",
      "[[0.2258622 ]\n",
      " [0.99946165]\n",
      " [0.9022805 ]\n",
      " ...\n",
      " [0.16248763]\n",
      " [0.14325649]\n",
      " [0.495635  ]]\n"
     ]
    }
   ],
   "source": [
    "model = models.Sequential()\n",
    "model.add(layers.Dense(16,activation='relu',input_shape=(10000,)))\n",
    "model.add(layers.Dense(16,activation='relu'))\n",
    "model.add(layers.Dense(1,activation='sigmoid'))\n",
    "\n",
    "model.compile(optimizer='rmsprop',loss='binary_crossentropy',metrics=['accuracy'])\n",
    "\n",
    "model.fit(partial_x_train,partial_y_train,epochs=4,batch_size=512,validation_data=(x_val,y_val))\n",
    "\n",
    "result = model.evaluate(x_test,y_test)\n",
    "print(result)\n",
    "print(model.predict(x_test))"
   ]
  },
  {
   "cell_type": "markdown",
   "metadata": {},
   "source": [
    "### 뉴스 기사 분류(다중 분류 예제)\n",
    "\n",
    "#### 로이터 데이터셋 다운로드\n",
    "Keras에서 지원하는 <code>kereas.datasets</code>중에서 뉴스 기사 분류를 위하여 reuters Dataset을 활용한다.  \n",
    "reuters Dataset은 뉴스 기사와 토픽의 집합으로서 46개의 토픽(Label)과 기사로서 이루워져있다.  \n",
    "<code>reuters.load_data(num_words=10000)</code>으로서 Word의 개수를 10000개로 제한한다. 즉, 많이 사용하는 단어 10000개만을 사용한다는 뜻이다.  "
   ]
  },
  {
   "cell_type": "code",
   "execution_count": 10,
   "metadata": {},
   "outputs": [
    {
     "name": "stdout",
     "output_type": "stream",
     "text": [
      "[1, 2, 2, 8, 43, 10, 447, 5, 25, 207, 270, 5, 3095, 111, 16, 369, 186, 90, 67, 7, 89, 5, 19, 102, 6, 19, 124, 15, 90, 67, 84, 22, 482, 26, 7, 48, 4, 49, 8, 864, 39, 209, 154, 6, 151, 6, 83, 11, 15, 22, 155, 11, 15, 7, 48, 9, 4579, 1005, 504, 6, 258, 6, 272, 11, 15, 22, 134, 44, 11, 15, 16, 8, 197, 1245, 90, 67, 52, 29, 209, 30, 32, 132, 6, 109, 15, 17, 12]\n",
      "3\n",
      "9999\n"
     ]
    }
   ],
   "source": [
    "(train_data,train_labels),(test_data,test_labels) = reuters.load_data(num_words=10000)\n",
    "print(train_data[0]) # Train Data 확인\n",
    "print(train_labels[0]) # Train Label 확인\n",
    "print(max([max(sequence) for sequence in train_data])) #Vocab 최대 Index 확인"
   ]
  },
  {
   "cell_type": "markdown",
   "metadata": {},
   "source": [
    "#### 데이서 준비\n",
    "이전에 사용한 Dataset과 동일하게 Ont-Hot-Encoding로서 변환한다.  \n",
    "Label 또한 0 or 1이 아닌 46개의 Class이므로 One-Hot-Encoding을 적용한다."
   ]
  },
  {
   "cell_type": "code",
   "execution_count": 11,
   "metadata": {},
   "outputs": [],
   "source": [
    "x_train = vectorize_sequences(train_data)\n",
    "x_test = vectorize_sequences(test_data)\n",
    "\n",
    "y_train = vectorize_sequences(train_labels,dimension=46)\n",
    "y_test = vectorize_sequences(test_labels,dimension=46)"
   ]
  },
  {
   "cell_type": "markdown",
   "metadata": {},
   "source": [
    "#### Model 구성\n",
    "이전 **영화 리뷰 분류(이진 분류 예제)**와 동일하지만 다른 구성은 마지막의 Output이다.  \n",
    "기존에는 1 or 0 즉, 긍정 부정만으로서 나누었지만 **뉴스 기사 분류(다중 분류 예제)**는 46개의 토픽에 관하여 Classification을 하므로 Output 단의 Activation Function을 Softmax를 사용하고 Class를 46개로 지정한다."
   ]
  },
  {
   "cell_type": "code",
   "execution_count": 12,
   "metadata": {},
   "outputs": [
    {
     "name": "stdout",
     "output_type": "stream",
     "text": [
      "Model: \"sequential_3\"\n",
      "_________________________________________________________________\n",
      "Layer (type)                 Output Shape              Param #   \n",
      "=================================================================\n",
      "dense_7 (Dense)              (None, 64)                640064    \n",
      "_________________________________________________________________\n",
      "dense_8 (Dense)              (None, 64)                4160      \n",
      "_________________________________________________________________\n",
      "dense_9 (Dense)              (None, 46)                2990      \n",
      "=================================================================\n",
      "Total params: 647,214\n",
      "Trainable params: 647,214\n",
      "Non-trainable params: 0\n",
      "_________________________________________________________________\n",
      "None\n"
     ]
    }
   ],
   "source": [
    "model = models.Sequential()\n",
    "model.add(layers.Dense(64,activation='relu',input_shape=(10000,)))\n",
    "model.add(layers.Dense(64,activation='relu'))\n",
    "model.add(layers.Dense(46,activation='softmax'))\n",
    "\n",
    "print(model.summary())"
   ]
  },
  {
   "cell_type": "markdown",
   "metadata": {},
   "source": [
    "#### Compile 정의\n",
    "이전 Compile과 동일하지만 달리진점은 Loss Function이다.  \n",
    "이전에는 이진분류로서 **binary_crossentropy**를 사용하였지만 다중분류를 위해서 **categorical_crossentropy**를 사용한다."
   ]
  },
  {
   "cell_type": "code",
   "execution_count": 13,
   "metadata": {},
   "outputs": [],
   "source": [
    "model.compile(optimizer='rmsprop',loss='categorical_crossentropy',metrics=['accuracy'])"
   ]
  },
  {
   "cell_type": "markdown",
   "metadata": {},
   "source": [
    "#### Validation Dataset 만들기"
   ]
  },
  {
   "cell_type": "code",
   "execution_count": 19,
   "metadata": {},
   "outputs": [],
   "source": [
    "x_val = x_train[:1000]\n",
    "partial_x_train = x_train[1000:]\n",
    "y_val = y_train[:1000]\n",
    "partial_y_train = y_train[1000:]"
   ]
  },
  {
   "cell_type": "markdown",
   "metadata": {},
   "source": [
    "#### Training"
   ]
  },
  {
   "cell_type": "code",
   "execution_count": 20,
   "metadata": {
    "scrolled": true
   },
   "outputs": [
    {
     "name": "stdout",
     "output_type": "stream",
     "text": [
      "Train on 7982 samples, validate on 1000 samples\n",
      "Epoch 1/20\n",
      "7982/7982 [==============================] - 1s 68us/step - loss: 2.5209 - accuracy: 0.4990 - val_loss: 1.6840 - val_accuracy: 0.6520\n",
      "Epoch 2/20\n",
      "7982/7982 [==============================] - 0s 47us/step - loss: 1.3914 - accuracy: 0.7117 - val_loss: 1.2994 - val_accuracy: 0.7290\n",
      "Epoch 3/20\n",
      "7982/7982 [==============================] - 0s 44us/step - loss: 1.0409 - accuracy: 0.7790 - val_loss: 1.1422 - val_accuracy: 0.7400\n",
      "Epoch 4/20\n",
      "7982/7982 [==============================] - 0s 44us/step - loss: 0.8250 - accuracy: 0.8235 - val_loss: 1.0381 - val_accuracy: 0.7880\n",
      "Epoch 5/20\n",
      "7982/7982 [==============================] - 0s 44us/step - loss: 0.6602 - accuracy: 0.8632 - val_loss: 0.9918 - val_accuracy: 0.7870\n",
      "Epoch 6/20\n",
      "7982/7982 [==============================] - 0s 45us/step - loss: 0.5319 - accuracy: 0.8890 - val_loss: 0.9387 - val_accuracy: 0.8140\n",
      "Epoch 7/20\n",
      "7982/7982 [==============================] - 0s 45us/step - loss: 0.4266 - accuracy: 0.9129 - val_loss: 0.9156 - val_accuracy: 0.8120\n",
      "Epoch 8/20\n",
      "7982/7982 [==============================] - 0s 46us/step - loss: 0.3459 - accuracy: 0.9281 - val_loss: 0.9194 - val_accuracy: 0.8120\n",
      "Epoch 9/20\n",
      "7982/7982 [==============================] - 0s 46us/step - loss: 0.2871 - accuracy: 0.9366 - val_loss: 0.9255 - val_accuracy: 0.8100\n",
      "Epoch 10/20\n",
      "7982/7982 [==============================] - 0s 46us/step - loss: 0.2417 - accuracy: 0.9448 - val_loss: 0.9170 - val_accuracy: 0.8070\n",
      "Epoch 11/20\n",
      "7982/7982 [==============================] - 0s 46us/step - loss: 0.2072 - accuracy: 0.9490 - val_loss: 0.9683 - val_accuracy: 0.8050\n",
      "Epoch 12/20\n",
      "7982/7982 [==============================] - 0s 44us/step - loss: 0.1856 - accuracy: 0.9505 - val_loss: 0.9314 - val_accuracy: 0.8120\n",
      "Epoch 13/20\n",
      "7982/7982 [==============================] - 0s 45us/step - loss: 0.1669 - accuracy: 0.9521 - val_loss: 0.9531 - val_accuracy: 0.8140\n",
      "Epoch 14/20\n",
      "7982/7982 [==============================] - 0s 46us/step - loss: 0.1467 - accuracy: 0.9553 - val_loss: 0.9438 - val_accuracy: 0.8120\n",
      "Epoch 15/20\n",
      "7982/7982 [==============================] - 0s 45us/step - loss: 0.1381 - accuracy: 0.9573 - val_loss: 0.9976 - val_accuracy: 0.8040\n",
      "Epoch 16/20\n",
      "7982/7982 [==============================] - 0s 46us/step - loss: 0.1333 - accuracy: 0.9572 - val_loss: 1.0522 - val_accuracy: 0.8000\n",
      "Epoch 17/20\n",
      "7982/7982 [==============================] - 0s 45us/step - loss: 0.1253 - accuracy: 0.9579 - val_loss: 1.0329 - val_accuracy: 0.8080\n",
      "Epoch 18/20\n",
      "7982/7982 [==============================] - 0s 45us/step - loss: 0.1211 - accuracy: 0.9572 - val_loss: 1.0535 - val_accuracy: 0.8090\n",
      "Epoch 19/20\n",
      "7982/7982 [==============================] - 0s 45us/step - loss: 0.1177 - accuracy: 0.9565 - val_loss: 1.0544 - val_accuracy: 0.8010\n",
      "Epoch 20/20\n",
      "7982/7982 [==============================] - 0s 47us/step - loss: 0.1086 - accuracy: 0.9592 - val_loss: 1.1588 - val_accuracy: 0.7840\n"
     ]
    }
   ],
   "source": [
    "history = model.fit(partial_x_train,partial_y_train,epochs=20,batch_size=512,validation_data=(x_val,y_val))"
   ]
  },
  {
   "cell_type": "markdown",
   "metadata": {},
   "source": [
    "#### Trainning & Validation Loss Visualization\n",
    "history(<code>model.fit()</code>의 결과)를 활용하여서 Loss를 Visualization하는 과정이다."
   ]
  },
  {
   "cell_type": "code",
   "execution_count": 21,
   "metadata": {},
   "outputs": [
    {
     "data": {
      "image/png": "[encoded data removed]",
      "text/plain": [
       "<Figure size 432x288 with 1 Axes>"
      ]
     },
     "metadata": {
      "needs_background": "light"
     },
     "output_type": "display_data"
    }
   ],
   "source": [
    "history_dict = history.history\n",
    "\n",
    "loss = history_dict['loss']\n",
    "val_loss = history_dict['val_loss']\n",
    "\n",
    "epoch = range(1,len(loss)+1)\n",
    "\n",
    "plt.plot(epoch,loss,'bo',label='Training Loss')\n",
    "plt.plot(epoch,val_loss,'b',label='Validation Loss')\n",
    "plt.title('Training and Validation Loss Visualization')\n",
    "plt.xlabel('Epoch')\n",
    "plt.ylabel('Loss')\n",
    "plt.legend()\n",
    "plt.show()"
   ]
  },
  {
   "cell_type": "markdown",
   "metadata": {},
   "source": [
    "#### Trainning & Validation Accuracy Visualization"
   ]
  },
  {
   "cell_type": "code",
   "execution_count": 23,
   "metadata": {},
   "outputs": [
    {
     "data": {
      "image/png": "[encoded data removed]",
      "text/plain": [
       "<Figure size 432x288 with 1 Axes>"
      ]
     },
     "metadata": {
      "needs_background": "light"
     },
     "output_type": "display_data"
    }
   ],
   "source": [
    "plt.clf() # 그래프를 초기화\n",
    "accuracy = history_dict['accuracy']\n",
    "val_accuracy = history_dict['val_accuracy']\n",
    "\n",
    "epoch = range(1,len(loss)+1)\n",
    "\n",
    "plt.plot(epoch,accuracy,'bo',label='Training accuracy')\n",
    "plt.plot(epoch,val_accuracy,'b',label='Validation accuracy')\n",
    "plt.title('Training and Validation accuracy Visualization')\n",
    "plt.xlabel('Epoch')\n",
    "plt.ylabel('Accuracy')\n",
    "plt.legend()\n",
    "plt.show()"
   ]
  },
  {
   "cell_type": "markdown",
   "metadata": {},
   "source": [
    "#### Model ReTrainning & Test\n",
    "Visualization결과 Epoch가 9이상부터 급격하게 Validation의 결과과 변하지 않는 것을 알 수 있다.  \n",
    "따라서 Epoch를 9로서 다시 Model을 선언하고 결과를 확인하자."
   ]
  },
  {
   "cell_type": "code",
   "execution_count": 26,
   "metadata": {},
   "outputs": [
    {
     "name": "stdout",
     "output_type": "stream",
     "text": [
      "Train on 7982 samples, validate on 1000 samples\n",
      "Epoch 1/9\n",
      "7982/7982 [==============================] - 0s 57us/step - loss: 2.5845 - accuracy: 0.5080 - val_loss: 1.7111 - val_accuracy: 0.6270\n",
      "Epoch 2/9\n",
      "7982/7982 [==============================] - 0s 45us/step - loss: 1.4115 - accuracy: 0.6966 - val_loss: 1.3203 - val_accuracy: 0.6980\n",
      "Epoch 3/9\n",
      "7982/7982 [==============================] - 0s 40us/step - loss: 1.0420 - accuracy: 0.7750 - val_loss: 1.1302 - val_accuracy: 0.7560\n",
      "Epoch 4/9\n",
      "7982/7982 [==============================] - 0s 33us/step - loss: 0.8122 - accuracy: 0.8269 - val_loss: 1.0510 - val_accuracy: 0.7730\n",
      "Epoch 5/9\n",
      "7982/7982 [==============================] - 0s 45us/step - loss: 0.6435 - accuracy: 0.8675 - val_loss: 0.9639 - val_accuracy: 0.8100\n",
      "Epoch 6/9\n",
      "7982/7982 [==============================] - 0s 43us/step - loss: 0.5093 - accuracy: 0.8940 - val_loss: 0.9963 - val_accuracy: 0.7700\n",
      "Epoch 7/9\n",
      "7982/7982 [==============================] - 0s 45us/step - loss: 0.4069 - accuracy: 0.9154 - val_loss: 0.9289 - val_accuracy: 0.8120\n",
      "Epoch 8/9\n",
      "7982/7982 [==============================] - 0s 38us/step - loss: 0.3338 - accuracy: 0.9301 - val_loss: 0.9041 - val_accuracy: 0.8180\n",
      "Epoch 9/9\n",
      "7982/7982 [==============================] - 0s 49us/step - loss: 0.2692 - accuracy: 0.9417 - val_loss: 0.9150 - val_accuracy: 0.8110\n",
      "2246/2246 [==============================] - 0s 56us/step\n",
      "[0.9885380437940969, 0.7818343639373779]\n"
     ]
    }
   ],
   "source": [
    "model = models.Sequential()\n",
    "model.add(layers.Dense(64,activation='relu',input_shape=(10000,)))\n",
    "model.add(layers.Dense(64,activation='relu'))\n",
    "model.add(layers.Dense(46,activation='softmax'))\n",
    "\n",
    "model.compile(optimizer='rmsprop',loss='categorical_crossentropy',metrics=['accuracy'])\n",
    "\n",
    "model.fit(partial_x_train,partial_y_train,epochs=9,batch_size=512,validation_data=(x_val,y_val))\n",
    "\n",
    "result = model.evaluate(x_test,y_test)\n",
    "print(result)\n",
    "predict = model.predict(x_test)"
   ]
  },
  {
   "cell_type": "markdown",
   "metadata": {},
   "source": [
    "#### 참조사항(Softmax 결과 확인)\n",
    "Softmax의 결과로서 Index의 모든 합이 1에 가까운 것을 알 수 있다.  \n",
    "또한 제대로된 Label을 알기위해서는 <code>np.argmax()</code>를 사용하여야 한다.  \n",
    "Softmax에 대한 자세한 내용은 아래 링크를 참조하자.  \n",
    "<a href=\"https://wjddyd66.github.io/dl/NeuralNetwork-(1)-Basic-&-Activation-Function/\">Softmax</a>"
   ]
  },
  {
   "cell_type": "code",
   "execution_count": 29,
   "metadata": {},
   "outputs": [
    {
     "name": "stdout",
     "output_type": "stream",
     "text": [
      "1\n",
      "0.99999994\n"
     ]
    }
   ],
   "source": [
    "print(np.argmax(predict[1]))\n",
    "print(np.sum(predict[1]))"
   ]
  },
  {
   "cell_type": "markdown",
   "metadata": {},
   "source": [
    "### 주택 가격 예측: 회귀 문제\n",
    "앞의 두개의 Model은 Classification의 문제였다.  \n",
    "**회귀 문제는 개별적인 Label이 어디에 속하는 Classification이 아니라 연속적인 값을 예측하는 것 이다.**  \n",
    "\n",
    "#### 보스턴 주택 가격 데이터셋 다운로드\n",
    "Keras에서 지원하는 <code>kereas.datasets</code>중에서 보스턴 주택 가격 예측을 위하여 boston_housing Dataset을 활용한다.  \n",
    "boston_housing Dataset은 Train: 404, Test: 102개의 데이터셋으로 구성되어있고 Feature의 개수는 13개이다."
   ]
  },
  {
   "cell_type": "code",
   "execution_count": 40,
   "metadata": {
    "scrolled": true
   },
   "outputs": [
    {
     "name": "stdout",
     "output_type": "stream",
     "text": [
      "[  1.23247   0.        8.14      0.        0.538     6.142    91.7\n",
      "   3.9769    4.      307.       21.      396.9      18.72   ]\n",
      "15.2\n",
      "13\n"
     ]
    }
   ],
   "source": [
    "(train_data,train_targets),(test_data,test_targets) = boston_housing.load_data()\n",
    "print(train_data[0]) # Train Data 확인\n",
    "print(train_targets[0]) # Train Targets 확인\n",
    "print(len(train_data[0])) #Train Data Feature 개수 확인"
   ]
  },
  {
   "cell_type": "markdown",
   "metadata": {},
   "source": [
    "#### 데이터셋 준비\n",
    "대부분의 Dataset을 준비하는 과정에서 제일 중요한 것은 **정규화**이다.  \n",
    "이전 두개의 Model의 Data는 Text로서 One-Hot-Vector로서 나타내었다.  \n",
    "하지만 **booston_housin의 Dataset은 13개의 Feature를 가지고 있고 이러한 Feature의 범위가 전부 다르다. 즉 이러한 Dataset의 Feature를 정규화를 시켜야 하는 과정을 거쳐야한다.**  \n",
    "**또한 중요한점은 TestDataset의 정규화는 TestDataset이 기준이 아니라 TrainDataset기준으로 정규화를 시켜야 한다는 것 이다. 다른 새로운 Dataset이 들어와 Model에 적용시키기전에 또한 정규화를 TrainDataset기준으로 하여야 한다.**"
   ]
  },
  {
   "cell_type": "code",
   "execution_count": 32,
   "metadata": {},
   "outputs": [],
   "source": [
    "mean = train_data.mean(axis=0)\n",
    "train_data -=mean\n",
    "std = train_data.std(axis=0)\n",
    "train_data /= std\n",
    "\n",
    "test_data -=mean\n",
    "test_data /=std"
   ]
  },
  {
   "cell_type": "markdown",
   "metadata": {},
   "source": [
    "#### Model구성\n",
    "이전 두 Model과 다른점은 Loss Function을 MSE를 사용한다.  \n",
    "Metrics를 MAE를 사용한다.  \n",
    "**MAE(Mean Absolute Error, MAE)는 평균절대 오차를 의미한다.** 기준에 따라다르지만 MAE가 0.5면 예측이 평균적으로 500달러 정도 차이가 난다는 뜻이다.  \n",
    "또한 Model을 여러번 사용하기 때문에 하나의 Method로서 선언한다.  \n",
    "이번 Model에서의 MAE의 의미를 알기 위해서는 Dataset의 Label을 알아야 한다.  \n",
    "Label의 값은 1.2, 7.2 ... 의 값으로 이루워져있고 이것의 의미는 1200달러, 7200달러를 의미한다.  \n",
    "즉 MAE의 값이 0.5면 500달러 정도의 오차를 의미한다고 할 수 있다.  "
   ]
  },
  {
   "cell_type": "code",
   "execution_count": 38,
   "metadata": {},
   "outputs": [],
   "source": [
    "def build_model():\n",
    "    model = models.Sequential()\n",
    "    model.add(layers.Dense(64,activation='relu',input_shape=(train_data.shape[1],)))\n",
    "    model.add(layers.Dense(1))\n",
    "    model.compile(optimizer='rmsprop',loss='mse',metrics=['mae'])\n",
    "    \n",
    "    return model"
   ]
  },
  {
   "cell_type": "markdown",
   "metadata": {},
   "source": [
    "#### K-fold cross-validation\n",
    "\n",
    "<img src=\"https://www.researchgate.net/profile/B_Aksasse/publication/326866871/figure/fig2/AS:669601385947145@1536656819574/K-fold-cross-validation-In-addition-we-outline-an-overview-of-the-different-metrics-used.jpg\" height=\"300\" width=\"600\">\n",
    "\n",
    "K개의 fold를 만들어서 진행하는 교차 검증  \n",
    "**사용 이유**  \n",
    "- 총 데이터 갯수가 적은 데이터 셋에 대하여 정확도를 향상시킬 수 있음\n",
    "- 기존에 Training, Validation, Test 세 개의 집단으로 분류하는 것보다, Training과 Test로만 분류할 때 학습 데이터 셋이 더 많기 때문이다.\n",
    "- 데이터 수가 적은데 검증과 테스트에 데이터를 사용하면 Underfitting 등 성능이 미달되는 모델이 학습됨\n"
   ]
  },
  {
   "cell_type": "code",
   "execution_count": 58,
   "metadata": {},
   "outputs": [
    {
     "name": "stdout",
     "output_type": "stream",
     "text": [
      "('Fold #', 0)\n",
      "('Fold #', 1)\n",
      "('Fold #', 2)\n",
      "('Fold #', 3)\n"
     ]
    }
   ],
   "source": [
    "k = 4\n",
    "num_val_samples = len(train_data)//k\n",
    "num_epoch = 500\n",
    "all_mae_history = []\n",
    "\n",
    "for i in range(k):\n",
    "    print('Fold #',i)\n",
    "    val_data = train_data[i*num_val_samples:(i+1)*num_val_samples]\n",
    "    val_target = train_targets[i*num_val_samples:(i+1)*num_val_samples]\n",
    "    \n",
    "    partial_train_data = np.concatenate(\n",
    "    [train_data[:i*num_val_samples],train_data[(i+1)*num_val_samples:]],axis=0)\n",
    "    partial_train_targets = np.concatenate(\n",
    "    [train_targets[:i*num_val_samples],train_targets[(i+1)*num_val_samples:]],axis=0)\n",
    "    \n",
    "    model = build_model()\n",
    "    history = model.fit(partial_train_data,partial_train_targets,\n",
    "                        validation_data = (val_data,val_target),\n",
    "                        epochs=num_epoch,batch_size=1,verbose=0) # verbose=0이면 Model Trainning과정이 출력되지 않는다.\n",
    "    mae_history = history.history['val_mae']\n",
    "    all_mae_history.append(mae_history)"
   ]
  },
  {
   "cell_type": "markdown",
   "metadata": {},
   "source": [
    "#### 결과 확인\n",
    "Smooth한 곡선의 결과를 얻기 위하여 다음과 같은 과정을 거친다.\n",
    "1. Fold = 4 로서 4번진행한 MAE에 대하영 각각의 평균을 구한다.\n",
    "2. 지수 이동 평균으로서 smoothed_points를 표현한다. 지수 이동 평균이란 이전에 계산된 이동평균에 factor를 곱하고 현재 포인트에 (1-factor)를 곱하여 나타낸 것을 의미한다. factor의 값을 0.9를 주어 이전에 값에 좀 더 많은 가중치를 두어서 값의 변화가 Smooth하게 변할 것이라는 것을 예측할 수 있다.\n",
    "3. Smooth한 곡선을 얻기위하여 아직 Training이 잘 되지않은 처음 10개의 Data는 제외한다.\n",
    "\n",
    "**결과를 확인하면 3200달러 정도가 차이나는 것을 확인할 수 있다.**"
   ]
  },
  {
   "cell_type": "code",
   "execution_count": 68,
   "metadata": {},
   "outputs": [
    {
     "name": "stdout",
     "output_type": "stream",
     "text": [
      "102/102 [==============================] - 0s 50us/step\n",
      "('Test_Mae_Score', 3.21199893951416)\n"
     ]
    },
    {
     "data": {
      "image/png": "[encoded data removed]",
      "text/plain": [
       "<Figure size 432x288 with 1 Axes>"
      ]
     },
     "metadata": {
      "needs_background": "light"
     },
     "output_type": "display_data"
    }
   ],
   "source": [
    "average_mae_history = [np.mean([x[i] for x in all_mae_history]) for i in range(num_epoch)]\n",
    "test_mse_score,test_mae_score = model.evaluate(test_data,test_targets)\n",
    "print('Test_Mae_Score',test_mae_score)\n",
    "\n",
    "def smooth_curve(points,factor = 0.9):\n",
    "    smoothed_points = []\n",
    "    for point in points:\n",
    "        if smoothed_points:\n",
    "            previous = smoothed_points[-1]\n",
    "            smoothed_points.append(previous*factor + point*(1-factor))\n",
    "        else:\n",
    "            smoothed_points.append(point)\n",
    "        \n",
    "    return smoothed_points\n",
    "\n",
    "smooth_mae_history = smooth_curve(average_mae_history[10:])\n",
    "\n",
    "plt.plot(range(1,len(smooth_mae_history)+1),smooth_mae_history)\n",
    "plt.xlabel('Epoch')\n",
    "plt.ylabel('Validation MAE')\n",
    "plt.show()"
   ]
  }
 ],
 "metadata": {
  "kernelspec": {
   "display_name": "Python 3",
   "language": "python",
   "name": "python3"
  },
  "language_info": {
   "codemirror_mode": {
    "name": "ipython",
    "version": 3
   },
   "file_extension": ".py",
   "mimetype": "text/x-python",
   "name": "python",
   "nbconvert_exporter": "python",
   "pygments_lexer": "ipython3",
   "version": "3.6.9"
  }
 },
 "nbformat": 4,
 "nbformat_minor": 2
}
