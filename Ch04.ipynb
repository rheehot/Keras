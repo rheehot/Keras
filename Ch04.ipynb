{
 "cells": [
  {
   "cell_type": "markdown",
   "metadata": {},
   "source": [
    "### 텍스트와 시퀀스를 위한 딥러닝\n",
    "이번 Post에서는 RNN을 활용하여 Sequence Dataset, Text에 대한 Model을 생성하고 알아본다.    \n",
    "\n",
    "이에 관하여 알아두면 좋은 Post는 아래 링크를 참조하자.  \n",
    "1. <a href=\"https://wjddyd66.github.io/dl/%EC%9E%90%EC%97%B0%EC%96%B4%EC%99%80-%EB%8B%A8%EC%96%B4%EC%9D%98-%EB%B6%84%EC%82%B0-%ED%91%9C%ED%98%84//\">자연어와 단어의 분산 표현</a>\n",
    "2. <a href=\"https://wjddyd66.github.io/dl/word2vec/\">word2vec</a>\n",
    "3. <a href=\"https://wjddyd66.github.io/dl/Fast-word2vec/\">Fast word2vec</a>\n",
    "4. <a href=\"https://wjddyd66.github.io/dl/RNN/\">RNN</a>\n",
    "5. <a href=\"https://wjddyd66.github.io/dl/LSTM/\">LSTM</a>\n",
    "6. <a href=\"https://wjddyd66.github.io/dl/seq2seq/\">seq2seq</a>\n",
    "7. <a href=\"https://wjddyd66.github.io/dl/Attention/\">Attention</a>\n",
    "\n",
    "<br>\n",
    "\n",
    "처음 Post에서도 언급하였듯이 자세한 수식이나 원리에 대해서는 미리 Post한 곳을 참조하고 Keras Category에서는 최대한 Keras 사용법에 집중한다.\n",
    "\n",
    "<br><br>\n",
    "#### 필요한 라이브러리 Import"
   ]
  },
  {
   "cell_type": "code",
   "execution_count": 1,
   "metadata": {},
   "outputs": [
    {
     "name": "stderr",
     "output_type": "stream",
     "text": [
      "Using TensorFlow backend.\n",
      "/usr/local/lib/python3.6/dist-packages/tensorflow/python/framework/dtypes.py:516: FutureWarning: Passing (type, 1) or '1type' as a synonym of type is deprecated; in a future version of numpy, it will be understood as (type, (1,)) / '(1,)type'.\n",
      "  _np_qint8 = np.dtype([(\"qint8\", np.int8, 1)])\n",
      "/usr/local/lib/python3.6/dist-packages/tensorflow/python/framework/dtypes.py:517: FutureWarning: Passing (type, 1) or '1type' as a synonym of type is deprecated; in a future version of numpy, it will be understood as (type, (1,)) / '(1,)type'.\n",
      "  _np_quint8 = np.dtype([(\"quint8\", np.uint8, 1)])\n",
      "/usr/local/lib/python3.6/dist-packages/tensorflow/python/framework/dtypes.py:518: FutureWarning: Passing (type, 1) or '1type' as a synonym of type is deprecated; in a future version of numpy, it will be understood as (type, (1,)) / '(1,)type'.\n",
      "  _np_qint16 = np.dtype([(\"qint16\", np.int16, 1)])\n",
      "/usr/local/lib/python3.6/dist-packages/tensorflow/python/framework/dtypes.py:519: FutureWarning: Passing (type, 1) or '1type' as a synonym of type is deprecated; in a future version of numpy, it will be understood as (type, (1,)) / '(1,)type'.\n",
      "  _np_quint16 = np.dtype([(\"quint16\", np.uint16, 1)])\n",
      "/usr/local/lib/python3.6/dist-packages/tensorflow/python/framework/dtypes.py:520: FutureWarning: Passing (type, 1) or '1type' as a synonym of type is deprecated; in a future version of numpy, it will be understood as (type, (1,)) / '(1,)type'.\n",
      "  _np_qint32 = np.dtype([(\"qint32\", np.int32, 1)])\n",
      "/usr/local/lib/python3.6/dist-packages/tensorflow/python/framework/dtypes.py:525: FutureWarning: Passing (type, 1) or '1type' as a synonym of type is deprecated; in a future version of numpy, it will be understood as (type, (1,)) / '(1,)type'.\n",
      "  np_resource = np.dtype([(\"resource\", np.ubyte, 1)])\n",
      "/usr/local/lib/python3.6/dist-packages/tensorboard/compat/tensorflow_stub/dtypes.py:541: FutureWarning: Passing (type, 1) or '1type' as a synonym of type is deprecated; in a future version of numpy, it will be understood as (type, (1,)) / '(1,)type'.\n",
      "  _np_qint8 = np.dtype([(\"qint8\", np.int8, 1)])\n",
      "/usr/local/lib/python3.6/dist-packages/tensorboard/compat/tensorflow_stub/dtypes.py:542: FutureWarning: Passing (type, 1) or '1type' as a synonym of type is deprecated; in a future version of numpy, it will be understood as (type, (1,)) / '(1,)type'.\n",
      "  _np_quint8 = np.dtype([(\"quint8\", np.uint8, 1)])\n",
      "/usr/local/lib/python3.6/dist-packages/tensorboard/compat/tensorflow_stub/dtypes.py:543: FutureWarning: Passing (type, 1) or '1type' as a synonym of type is deprecated; in a future version of numpy, it will be understood as (type, (1,)) / '(1,)type'.\n",
      "  _np_qint16 = np.dtype([(\"qint16\", np.int16, 1)])\n",
      "/usr/local/lib/python3.6/dist-packages/tensorboard/compat/tensorflow_stub/dtypes.py:544: FutureWarning: Passing (type, 1) or '1type' as a synonym of type is deprecated; in a future version of numpy, it will be understood as (type, (1,)) / '(1,)type'.\n",
      "  _np_quint16 = np.dtype([(\"quint16\", np.uint16, 1)])\n",
      "/usr/local/lib/python3.6/dist-packages/tensorboard/compat/tensorflow_stub/dtypes.py:545: FutureWarning: Passing (type, 1) or '1type' as a synonym of type is deprecated; in a future version of numpy, it will be understood as (type, (1,)) / '(1,)type'.\n",
      "  _np_qint32 = np.dtype([(\"qint32\", np.int32, 1)])\n",
      "/usr/local/lib/python3.6/dist-packages/tensorboard/compat/tensorflow_stub/dtypes.py:550: FutureWarning: Passing (type, 1) or '1type' as a synonym of type is deprecated; in a future version of numpy, it will be understood as (type, (1,)) / '(1,)type'.\n",
      "  np_resource = np.dtype([(\"resource\", np.ubyte, 1)])\n"
     ]
    }
   ],
   "source": [
    "import os\n",
    "import numpy as np\n",
    "import matplotlib.pyplot as plt\n",
    "from keras.models import Sequential\n",
    "from keras import layers\n",
    "from keras.layers import Flatten, Dense, Embedding, SimpleRNN, LSTM\n",
    "from keras.datasets import imdb\n",
    "from keras import preprocessing\n",
    "from keras.preprocessing.sequence import pad_sequences\n",
    "from keras.preprocessing.text import Tokenizer\n",
    "from keras.optimizers import RMSprop"
   ]
  },
  {
   "cell_type": "markdown",
   "metadata": {},
   "source": [
    "### 텍스트 데이터 다루기\n",
    "Input으로 들어오는 Data가 만약 Text일 경우 어떻게 처리해야 하는지에 대한 Keras의 방향이다.  \n",
    "먼저 이전 Post들 특히 <a href=\"https://wjddyd66.github.io/categories/#dl\">DL Category</a>중에서도 위에서 언급한 RNN에 관련된 Post에서도 언급하였지만 Text를 Network에 넣기 위한 Data Format은 크게 2가지로 나뉜다.\n",
    "1. One-Hot-Encoding\n",
    "2. Embedding\n",
    "\n",
    "대부분은 Embedding으로서 Text Data의 Format을 변화시키지만 One-Hot-Encoding으로도 많이 표현됨으로 2가지의 모든 경우에 대해서 알아보자.  \n",
    "\n",
    "**One-Hot-Encoding**  \n",
    "Text Data를 One-Hot-Encoding 형식으로 만드는 방법이다.  \n",
    "Keras에서는 **원본 텍스트 데이터를 단어 또는 문자 수준의 One-Hot-Encoding으로 변환해주는 Tokenizer라는 유틸리티가 존재합니다.**  \n",
    "신경써야하는 전처리 과정인 특수 문자를 제거하거나 빈도가 높은 N개의 단어만 선택하는 등 여러가지 중요한 기능들이 미리 존재합니다."
   ]
  },
  {
   "cell_type": "code",
   "execution_count": 2,
   "metadata": {},
   "outputs": [
    {
     "name": "stdout",
     "output_type": "stream",
     "text": [
      "0 {'the': 1, 'cat': 2, 'sat': 3, 'on': 4, 'mat': 5, 'dog': 6, 'ate': 7, 'my': 8, 'homework': 9}\n",
      "1 OrderedDict([('the', 3), ('cat', 1), ('sat', 1), ('on', 1), ('mat', 1), ('dog', 1), ('ate', 1), ('my', 1), ('homework', 1)])\n"
     ]
    }
   ],
   "source": [
    "samples = ['The cat sat on the mat.', 'The dog ate my homework.']\n",
    "\n",
    "tokenizer = Tokenizer(num_words=1000)\n",
    "tokenizer.fit_on_texts(samples)\n",
    "\n",
    "sequences = tokenizer.texts_to_sequences(samples)\n",
    "one_hot_results = tokenizer.texts_to_matrix(samples)\n",
    "\n",
    "word_index = tokenizer.word_index\n",
    "word_docs = tokenizer.word_counts\n",
    "for index, docs in enumerate([word_index,word_docs]):\n",
    "    print(index,docs)"
   ]
  },
  {
   "cell_type": "markdown",
   "metadata": {},
   "source": [
    "**단어 임베딩**  \n",
    "One-Hot-Encoding의 단점으로서 너무 Sparse하고 Vector의 차원이 높아서 Computing 연산시간이 오래 걸린다.  \n",
    "따라서 해결방법으로서 **단어 임베딩**으로서 단어를 표현한다.  \n",
    "임베딩에 관해서 생소하거나 자세한 내용이 알고 싶은 분들은 위의 Post에서 1. 자연어와 단어 분산 표현 ~ 3. Fast word2vec을 참조하면 된다.  \n",
    "\n",
    "Keras에서는 이러한 Embedding 층을 쉽게 구성할수 있게 Embedding이라는 유틸리티를 제공한다.  \n",
    "<br>\n",
    "\n",
    "**IMDB 데이터 로드하기**  \n",
    "먼저 Embedding에 사용할 Dataset을 구성하는 것 이다.  \n",
    "<a href=\"https://wjddyd66.github.io/keras/Keras(2)/\">신경망 시작하기</a>에서 언급한 imdb 데이터셋을 사용한다.  \n",
    "**중요한 점은 Embedding을 하기 위하여 Input의 Size를 제한시켜야 한다. preprocessing을 통하여 최대 Input Size를 20차원으로서 제한하였다.**"
   ]
  },
  {
   "cell_type": "code",
   "execution_count": 3,
   "metadata": {},
   "outputs": [
    {
     "name": "stdout",
     "output_type": "stream",
     "text": [
      "[[  65   16   38 ...   19  178   32]\n",
      " [  23    4 1690 ...   16  145   95]\n",
      " [1352   13  191 ...    7  129  113]\n",
      " ...\n",
      " [  11 1818 7561 ...    4 3586    2]\n",
      " [  92  401  728 ...   12    9   23]\n",
      " [ 764   40    4 ...  204  131    9]]\n",
      "\n",
      "[[ 286  170    8 ...   14    6  717]\n",
      " [  10   10  472 ...  125    4 3077]\n",
      " [  34    2   45 ...    9   57  975]\n",
      " ...\n",
      " [ 226   20  272 ...   21  846 5518]\n",
      " [  55  117  212 ... 2302    7  470]\n",
      " [  19   14   20 ...   34 2005 2643]]\n",
      "20\n"
     ]
    }
   ],
   "source": [
    "max_features = 10000\n",
    "maxlen = 20\n",
    "\n",
    "(x_train,y_train),(x_test,y_test) = imdb.load_data(num_words=max_features)\n",
    "x_train = preprocessing.sequence.pad_sequences(x_train,maxlen=maxlen)\n",
    "x_test = preprocessing.sequence.pad_sequences(x_test,maxlen=maxlen)\n",
    "\n",
    "print(x_train)\n",
    "print()\n",
    "print(x_test)\n",
    "print(len(x_train[0]))"
   ]
  },
  {
   "cell_type": "markdown",
   "metadata": {},
   "source": [
    "**imdb 데이터에 Embedding 층과 분류기 사용**  \n",
    "실질적인 Train Data를 통하여 Train시키고 결과를 확인하기 위하여 Embedding 층과 분류기를 사용한다.  \n",
    "자세히 살펴보기 이전에 먼저 CBOW의 Model구조를 살펴보고 실제 Code에서 어떻게 Embedding구조에 적용하였는지 알아보자.  \n",
    "<img src=\"https://datascienceschool.net/upfiles/e62aadf1e8324d16a66288f2c83c470a.png\" height=\"250\" width=\"600\">\n",
    "위의 그림의 Embedding Layer를 구성하기 위하여 실질적인 Code는 <code>Embedding(10000,8,input_length=maxlen)</code>로서 구성하였다.  \n",
    "하나하나 Paramter를 살펴보면 다음과 같다.  \n",
    "- 10000: One-Hot-Encoding으로서 바꾸었을때의 Vector의 Size이다. 위에서 num_words를 10000로서 정의하였기 때문에 같은 값으로서 맞춰주었다.\n",
    "- 8: 10000개의 Vector로서 이루워진 One-Hot-Encoding을 몇 차원의 Embedding으로서 표현할 것인지에 대한 Feature의 개수이다. 예를들어 12라는 단어라 King이라면 Embedding을 통하여 [남자=0.9, 권위=0.5, ...]등의 8차원의 크기의 Vector로서 맞춰준다.\n",
    "- input_length: Input으로 들어오는 x의 차원 크기이다. 위에서 preprocessing을 통하여 Data의 차원을 20차원이하로 줄였다. 따라서 x의 차원은 20차원이고 최종적으로는 20 * 8 * batch_size의 Output형태로 출력되게 된다.\n",
    "\n",
    "위의 과정으로 나온 Output을 Sigmoid를 통하여 Target Data의 0~1사이의 값으로서 바꾸고 Training을 진행하였다.\n",
    "\n",
    "**참고 사항(GloVe)**  \n",
    "GloVe(Global Vectors for Word Representation)은 미리 Training된 Embeding이다. \n",
    "수백만 개의 영어 Word에 대해서 미리 Training되어있어 앞으로의 Embeding 계층은 모두 GloVe를 통하여 쉽게 구축하고 결과를 확인한다.  \n",
    "<a href=\"https://nlp.stanford.edu/projects/glove/\">GloVe 홈페이지</a>"
   ]
  },
  {
   "cell_type": "code",
   "execution_count": 4,
   "metadata": {
    "scrolled": true
   },
   "outputs": [
    {
     "name": "stdout",
     "output_type": "stream",
     "text": [
      "WARNING:tensorflow:From /usr/local/lib/python3.6/dist-packages/tensorflow/python/ops/nn_impl.py:180: add_dispatch_support.<locals>.wrapper (from tensorflow.python.ops.array_ops) is deprecated and will be removed in a future version.\n",
      "Instructions for updating:\n",
      "Use tf.where in 2.0, which has the same broadcast rule as np.where\n",
      "Model: \"sequential_1\"\n",
      "_________________________________________________________________\n",
      "Layer (type)                 Output Shape              Param #   \n",
      "=================================================================\n",
      "embedding_1 (Embedding)      (None, 20, 8)             80000     \n",
      "_________________________________________________________________\n",
      "flatten_1 (Flatten)          (None, 160)               0         \n",
      "_________________________________________________________________\n",
      "dense_1 (Dense)              (None, 1)                 161       \n",
      "=================================================================\n",
      "Total params: 80,161\n",
      "Trainable params: 80,161\n",
      "Non-trainable params: 0\n",
      "_________________________________________________________________\n",
      "WARNING:tensorflow:From /usr/local/lib/python3.6/dist-packages/keras/backend/tensorflow_backend.py:422: The name tf.global_variables is deprecated. Please use tf.compat.v1.global_variables instead.\n",
      "\n",
      "Train on 20000 samples, validate on 5000 samples\n",
      "Epoch 1/10\n",
      "20000/20000 [==============================] - 1s 40us/step - loss: 0.6580 - acc: 0.6444 - val_loss: 0.5967 - val_acc: 0.7060\n",
      "Epoch 2/10\n",
      "20000/20000 [==============================] - 1s 35us/step - loss: 0.5248 - acc: 0.7584 - val_loss: 0.5168 - val_acc: 0.7340\n",
      "Epoch 3/10\n",
      "20000/20000 [==============================] - 1s 33us/step - loss: 0.4544 - acc: 0.7918 - val_loss: 0.4960 - val_acc: 0.7426\n",
      "Epoch 4/10\n",
      "20000/20000 [==============================] - 1s 35us/step - loss: 0.4191 - acc: 0.8090 - val_loss: 0.4923 - val_acc: 0.7488\n",
      "Epoch 5/10\n",
      "20000/20000 [==============================] - 1s 34us/step - loss: 0.3958 - acc: 0.8212 - val_loss: 0.4931 - val_acc: 0.7584\n",
      "Epoch 6/10\n",
      "20000/20000 [==============================] - 1s 32us/step - loss: 0.3773 - acc: 0.8306 - val_loss: 0.4950 - val_acc: 0.7630\n",
      "Epoch 7/10\n",
      "20000/20000 [==============================] - 1s 33us/step - loss: 0.3596 - acc: 0.8406 - val_loss: 0.4999 - val_acc: 0.7606\n",
      "Epoch 8/10\n",
      "20000/20000 [==============================] - 1s 32us/step - loss: 0.3437 - acc: 0.8508 - val_loss: 0.5068 - val_acc: 0.7614\n",
      "Epoch 9/10\n",
      "20000/20000 [==============================] - 1s 37us/step - loss: 0.3274 - acc: 0.8605 - val_loss: 0.5150 - val_acc: 0.7578\n",
      "Epoch 10/10\n",
      "20000/20000 [==============================] - 1s 30us/step - loss: 0.3113 - acc: 0.8694 - val_loss: 0.5212 - val_acc: 0.7548\n"
     ]
    }
   ],
   "source": [
    "model = Sequential()\n",
    "model.add(Embedding(10000,8,input_length=maxlen))\n",
    "model.add(Flatten())\n",
    "model.add(Dense(1,activation='sigmoid'))\n",
    "model.compile(optimizer='rmsprop',loss='binary_crossentropy',metrics=['acc'])\n",
    "model.summary()\n",
    "\n",
    "history = model.fit(x_train,y_train,epochs=10,batch_size=32,validation_split=0.2)"
   ]
  },
  {
   "cell_type": "markdown",
   "metadata": {},
   "source": [
    "### Embedding 활용하여 Network구축하기\n",
    "위에서는 간략한 Data에 대해서 ANN Network를 구축하고 결과를 확인하였다.  \n",
    "실제 Dataset을 다운받고 실제로 ANN Network를 구축하여 어떻게 결과를 출력하는지 알아보자.  \n",
    "즉 원본 .txt File로부터 어떻게 Data Preprocessing하고 Embedding을 구축하는지에 대하여 실습한다.  \n",
    "먼저 <a href=\"https://mng.bz/OtIo\">원본 IMDB 데이터</a>를 다운로드 받고 Directory에 지정하자.  \n",
    "받은 Data의 구조는 test, train Directory로서 구성되어 있고 각각의 Dataset은 neg, pos로서 분류되어있다.  \n",
    "아래 과정은 neg, pos에 대하여 Dataset을 구축하는 단계이다.  \n",
    "실제 Text에 대하여 pos와 neg에 따라서 Label을 붙이는 단계이다."
   ]
  },
  {
   "cell_type": "code",
   "execution_count": 5,
   "metadata": {},
   "outputs": [],
   "source": [
    "imdb_dir = './Dataset/aclImdb/'\n",
    "train_dir = os.path.join(imdb_dir,'train/')\n",
    "\n",
    "labels = []\n",
    "texts = []\n",
    "\n",
    "for label_type in ['neg','pos']:\n",
    "    dir_name = os.path.join(train_dir,label_type)\n",
    "    for fname in os.listdir(dir_name):\n",
    "        if fname[-4:] == '.txt':\n",
    "            f = open(os.path.join(dir_name,fname),encoding='utf8')\n",
    "            texts.append(f.read())\n",
    "            f.close()\n",
    "                \n",
    "            if label_type == 'neg':\n",
    "                labels.append(0)\n",
    "            else:\n",
    "                labels.append(1)"
   ]
  },
  {
   "cell_type": "markdown",
   "metadata": {},
   "source": [
    "**데이터 토큰화**  \n",
    "위에서 실제 Text File에 대하여 Data를 구축하였다.  \n",
    "이러한 Data를 Input으로 넣기위하여 토큰화를 하는 과정이다.  \n",
    "먼저 Embedding을 구하기 위하여 Data를 One-Hot-Encoding을 Tokenizer를 통하여 구축하는 단계이다."
   ]
  },
  {
   "cell_type": "code",
   "execution_count": 6,
   "metadata": {},
   "outputs": [
    {
     "name": "stdout",
     "output_type": "stream",
     "text": [
      "데이터 텐서의 크기:  (25000, 100)\n",
      "레이블 텐서의 크기:  (25000,)\n"
     ]
    }
   ],
   "source": [
    "maxlen = 100\n",
    "training_samples = 200\n",
    "validation_samples = 10000\n",
    "max_words = 10000\n",
    "\n",
    "tokenizer = Tokenizer(num_words=max_words)\n",
    "tokenizer.fit_on_texts(texts)\n",
    "sequences = tokenizer.texts_to_sequences(texts)\n",
    "\n",
    "word_index = tokenizer.word_index\n",
    "\n",
    "data = pad_sequences(sequences,maxlen=maxlen)\n",
    "labels = np.asarray(labels)\n",
    "\n",
    "print('데이터 텐서의 크기: ',data.shape)\n",
    "print('레이블 텐서의 크기: ',labels.shape)\n",
    "\n",
    "indices = np.arange(data.shape[0])\n",
    "np.random.shuffle(indices)\n",
    "data = data[indices]\n",
    "labels = labels[indices]\n",
    "\n",
    "x_train = data[:training_samples]\n",
    "y_train = labels[:training_samples]\n",
    "x_val = data[training_samples:training_samples+validation_samples]\n",
    "y_val = labels[training_samples:training_samples+validation_samples]"
   ]
  },
  {
   "cell_type": "markdown",
   "metadata": {},
   "source": [
    "**GloVE 단어 임베딩**  \n",
    "Embedding Layer를 구축하는 방법에 따라 크게 2가지로 정의하였다.  \n",
    "실질적으로 Embedding Layer를 Training하여 구축하는 방법과 기존에 정의되어있는 Embeding Layer를 가져와서 사용하는 것 이다.  \n",
    "현재 Training Dataset이 적기 때문에 Model 성능의 향상때문에 GloVE라는 Embedding Layer를 가져다가 사용한다.  \n",
    "**중요한 점은 GloVE 의 Vocab은 100차원 이므로 위에서 Data의 maxlen을 100차원으로서 제한하였다.**  \n",
    "<a href=\"https://nlp.stanford.edu/projects/glove/\">GloVe 홈페이지</a>에서 glove.6B.zip 을 Download받을 수 있다. 압축된 .zip File의 크기가 822MB여서 Github에는 정식으로 올리지 못하고 링크를 참조하여 받아서 실습을 진행하여야 한다.  \n",
    "File 구조를 살펴보면 다음과 같다.  \n",
    "```code\n",
    "the -0.038194 -0.24487 0.72812 -0.39961 0.083172 0.043953 -0.39141 0.3344 -0.57545 0.087459 0.28787 -0.06731 0.30906 -0.26384 -0.13231 -0.20757 0.33395 -0.33848 -0.31743 -0.48336 0.1464 -0.37304 0.34577 0.052041 0.44946 -0.46971 0.02628 -0.54155 -0.15518 -0.14107 -0.039722 0.28277 0.14393 0.23464 -0.31021 0.086173 0.20397 0.52624 0.17164 -0.082378 -0.71787 -0.41531 0.20335 -0.12763 0.41367 0.55187 0.57908 -0.33477 -0.36559 -0.54857 -0.062892 0.26584 0.30205 0.99775 -0.80481 -3.0243 0.01254 -0.36942 2.2167 0.72201 -0.24978 0.92136 0.034514 0.46745 1.1079 -0.19358 -0.074575 0.23353 -0.052062 -0.22044 0.057162 -0.15806 -0.30798 -0.41625 0.37972 0.15006 -0.53212 -0.2055 -1.2526 0.071624 0.70565 0.49744 -0.42063 0.26148 -1.538 -0.30223 -0.073438 -0.28312 0.37104 -0.25217 0.016215 -0.017099 -0.38984 0.87424 -0.72569 -0.51058 -0.52028 -0.1459 0.8278 0.27062\n",
    "```\n",
    "\n",
    "각 단어에 대하여 100차원으로 Embedding된 행렬로서 표현한다.  \n",
    "아래 단계는 이러한 단어에 대한 Embedding된 행렬을 가져오는 작업이다."
   ]
  },
  {
   "cell_type": "code",
   "execution_count": 7,
   "metadata": {},
   "outputs": [
    {
     "name": "stdout",
     "output_type": "stream",
     "text": [
      "400000개의 단어 백터를 찾았습니다.\n"
     ]
    }
   ],
   "source": [
    "globe_dir = './Dataset/'\n",
    "\n",
    "embeddings_index = {}\n",
    "f = open(os.path.join(globe_dir,'glove.6B.100d.txt'),encoding='utf8')\n",
    "for line in f:\n",
    "    values = line.split()\n",
    "    word = values[0]\n",
    "    coefs = np.asarray(values[1:],dtype='float32')\n",
    "    embeddings_index[word] = coefs\n",
    "    \n",
    "f.close()\n",
    "\n",
    "print('%s개의 단어 백터를 찾았습니다.'% len(embeddings_index))"
   ]
  },
  {
   "cell_type": "markdown",
   "metadata": {},
   "source": [
    "**Embedding 행렬 만들기**  \n",
    "실질적인 Keras의 Embedding 행렬로 만드는 과정이다.  \n",
    "행렬의 크기는 (max_words, embedding_dim)이여야 한다.  \n",
    "또한 주의해야 하는 점은 현재 Dataset의 구축 할 때 max_words = 10000로서 표현하였다.  \n",
    "현재 GloVE는 400000개의 단어 Vector를 포함하므로 10000개의 Vector로서 줄여야 한다.  \n",
    "Code의 결과로서 각각의 변수는 다음과 같은 결과를 가진다.  \n",
    "최종적으로 구하고자 하는 Embedding Matrix를 확인하게 되면 (max_words(=10000), embedding_dim(=100))차원의 Vector로서 표현되고 각각의 요소는 Training된 weights를 가지는 것을 확인할 수 있다."
   ]
  },
  {
   "cell_type": "code",
   "execution_count": 8,
   "metadata": {},
   "outputs": [
    {
     "name": "stdout",
     "output_type": "stream",
     "text": [
      "(10000, 100)\n",
      "[-0.038194   -0.24487001  0.72812003 -0.39961001  0.083172    0.043953\n",
      " -0.39140999  0.3344     -0.57545     0.087459    0.28786999 -0.06731\n",
      "  0.30906001 -0.26383999 -0.13231    -0.20757     0.33395001 -0.33848\n",
      " -0.31742999 -0.48335999  0.1464     -0.37303999  0.34577     0.052041\n",
      "  0.44946    -0.46970999  0.02628    -0.54154998 -0.15518001 -0.14106999\n",
      " -0.039722    0.28277001  0.14393     0.23464    -0.31020999  0.086173\n",
      "  0.20397     0.52623999  0.17163999 -0.082378   -0.71787    -0.41531\n",
      "  0.20334999 -0.12763     0.41367     0.55186999  0.57907999 -0.33476999\n",
      " -0.36559001 -0.54856998 -0.062892    0.26583999  0.30204999  0.99774998\n",
      " -0.80480999 -3.0243001   0.01254    -0.36941999  2.21670008  0.72201002\n",
      " -0.24978     0.92136002  0.034514    0.46744999  1.10790002 -0.19358\n",
      " -0.074575    0.23353    -0.052062   -0.22044     0.057162   -0.15806\n",
      " -0.30798    -0.41624999  0.37972     0.15006    -0.53211999 -0.20550001\n",
      " -1.25259995  0.071624    0.70564997  0.49744001 -0.42063001  0.26148\n",
      " -1.53799999 -0.30223    -0.073438   -0.28312001  0.37103999 -0.25217\n",
      "  0.016215   -0.017099   -0.38984001  0.87423998 -0.72569001 -0.51058\n",
      " -0.52028    -0.1459      0.82779998  0.27061999]\n"
     ]
    }
   ],
   "source": [
    "embedding_dim = 100\n",
    "embedding_matrix = np.zeros((max_words,embedding_dim))\n",
    "\n",
    "for word,i in word_index.items():\n",
    "    if i < max_words:\n",
    "        embeddinng_vector = embeddings_index.get(word)\n",
    "        if embeddinng_vector is not None:\n",
    "            embedding_matrix[i] = embeddinng_vector\n",
    "            \n",
    "print(embedding_matrix.shape)\n",
    "print(embedding_matrix[1])"
   ]
  },
  {
   "cell_type": "markdown",
   "metadata": {},
   "source": [
    "**Model 정의하기**  \n",
    "이전에 간단한 ANN과 같은 Model구조를 가집니다.  \n",
    "중요한점은 Embedding Layer는 GloVe를 사용하므로 Training되면 안됨으로 Model의 Weights를 지정하고 Training 불가능하게 정의한다."
   ]
  },
  {
   "cell_type": "code",
   "execution_count": 9,
   "metadata": {},
   "outputs": [
    {
     "name": "stdout",
     "output_type": "stream",
     "text": [
      "Model: \"sequential_2\"\n",
      "_________________________________________________________________\n",
      "Layer (type)                 Output Shape              Param #   \n",
      "=================================================================\n",
      "embedding_2 (Embedding)      (None, 100, 100)          1000000   \n",
      "_________________________________________________________________\n",
      "flatten_2 (Flatten)          (None, 10000)             0         \n",
      "_________________________________________________________________\n",
      "dense_2 (Dense)              (None, 32)                320032    \n",
      "_________________________________________________________________\n",
      "dense_3 (Dense)              (None, 1)                 33        \n",
      "=================================================================\n",
      "Total params: 1,320,065\n",
      "Trainable params: 1,320,065\n",
      "Non-trainable params: 0\n",
      "_________________________________________________________________\n"
     ]
    }
   ],
   "source": [
    "model = Sequential()\n",
    "model.add(Embedding(max_words,embedding_dim,input_length=maxlen))\n",
    "model.add(Flatten())\n",
    "model.add(Dense(32,activation='relu'))\n",
    "model.add(Dense(1,activation='sigmoid'))\n",
    "model.summary()\n",
    "model.layers[0].set_weights([embedding_matrix])\n",
    "model.layers[0].trainable=False"
   ]
  },
  {
   "cell_type": "markdown",
   "metadata": {},
   "source": [
    "**Model Training**"
   ]
  },
  {
   "cell_type": "code",
   "execution_count": 10,
   "metadata": {
    "scrolled": true
   },
   "outputs": [
    {
     "name": "stdout",
     "output_type": "stream",
     "text": [
      "Train on 200 samples, validate on 10000 samples\n",
      "Epoch 1/10\n",
      "200/200 [==============================] - 0s 2ms/step - loss: 1.5012 - acc: 0.5000 - val_loss: 0.7402 - val_acc: 0.5030\n",
      "Epoch 2/10\n",
      "200/200 [==============================] - 0s 1ms/step - loss: 0.5137 - acc: 0.7800 - val_loss: 0.9632 - val_acc: 0.5022\n",
      "Epoch 3/10\n",
      "200/200 [==============================] - 0s 1ms/step - loss: 0.4416 - acc: 0.7700 - val_loss: 0.8037 - val_acc: 0.5064\n",
      "Epoch 4/10\n",
      "200/200 [==============================] - 0s 1ms/step - loss: 0.3308 - acc: 0.9100 - val_loss: 0.9699 - val_acc: 0.5032\n",
      "Epoch 5/10\n",
      "200/200 [==============================] - 0s 1ms/step - loss: 0.2778 - acc: 0.9000 - val_loss: 0.7819 - val_acc: 0.5276\n",
      "Epoch 6/10\n",
      "200/200 [==============================] - 0s 1ms/step - loss: 0.2176 - acc: 0.9650 - val_loss: 1.0425 - val_acc: 0.4998\n",
      "Epoch 7/10\n",
      "200/200 [==============================] - 0s 1ms/step - loss: 0.1741 - acc: 0.9750 - val_loss: 0.7393 - val_acc: 0.5624\n",
      "Epoch 8/10\n",
      "200/200 [==============================] - 0s 1ms/step - loss: 0.1493 - acc: 0.9500 - val_loss: 1.6436 - val_acc: 0.4979\n",
      "Epoch 9/10\n",
      "200/200 [==============================] - 0s 1ms/step - loss: 0.1180 - acc: 0.9750 - val_loss: 1.0815 - val_acc: 0.5157\n",
      "Epoch 10/10\n",
      "200/200 [==============================] - 0s 1ms/step - loss: 0.0761 - acc: 1.0000 - val_loss: 0.7255 - val_acc: 0.5839\n"
     ]
    }
   ],
   "source": [
    "model.compile(optimizer='rmsprop',loss='binary_crossentropy',metrics=['acc'])\n",
    "history = model.fit(x_train,y_train,epochs=10,batch_size=32,validation_data=(x_val,y_val))\n",
    "model.save_weights('./Model/pre_trained_glove_model.h5')"
   ]
  },
  {
   "cell_type": "markdown",
   "metadata": {},
   "source": [
    "**결과 시각화하기**  \n",
    "결과를 확인하게 되면 매우 빨리 Overfitting이 시작되고 정확도가 50%인것을 확인 할 수 있다.  \n",
    "Training Datset이 200개뿐이여서 이러한 결과를 보이게 된다."
   ]
  },
  {
   "cell_type": "code",
   "execution_count": 11,
   "metadata": {},
   "outputs": [
    {
     "data": {
      "image/png": "[encoded data removed]",
      "text/plain": [
       "<Figure size 432x288 with 1 Axes>"
      ]
     },
     "metadata": {
      "needs_background": "light"
     },
     "output_type": "display_data"
    },
    {
     "data": {
      "image/png": "[encoded data removed]",
      "text/plain": [
       "<Figure size 432x288 with 1 Axes>"
      ]
     },
     "metadata": {
      "needs_background": "light"
     },
     "output_type": "display_data"
    }
   ],
   "source": [
    "history_dict = history.history\n",
    "\n",
    "acc = history_dict['acc']\n",
    "val_acc = history_dict['val_acc']\n",
    "\n",
    "loss = history_dict['loss']\n",
    "val_loss = history_dict['val_loss']\n",
    "\n",
    "epoch = range(1,len(loss)+1)\n",
    "\n",
    "plt.plot(epoch,acc,'bo',label='Training Accuracy')\n",
    "plt.plot(epoch,val_acc,'b',label='Validation Accuracy')\n",
    "plt.title('Training and Validation Accuracy Visualization')\n",
    "plt.xlabel('Epoch')\n",
    "plt.ylabel('Accuracy')\n",
    "plt.legend()\n",
    "plt.figure()\n",
    "\n",
    "plt.plot(epoch,loss,'bo',label='Training Loss')\n",
    "plt.plot(epoch,val_loss,'b',label='Validation Loss')\n",
    "plt.title('Training and Validation Loss Visualization')\n",
    "\n",
    "plt.xlabel('Epoch')\n",
    "plt.ylabel('Loss')\n",
    "plt.legend()\n",
    "\n",
    "plt.show()"
   ]
  },
  {
   "cell_type": "markdown",
   "metadata": {},
   "source": [
    "**GloVe 사용 X**  \n",
    "Embedding Layer를 GloVe가 아닌 Training 하여 직접 결과를 확인한다.  \n",
    "Loss는 줄었으나 여전히 Accuraccy가 매우 낮은 것을 확인할 수 있다."
   ]
  },
  {
   "cell_type": "code",
   "execution_count": 12,
   "metadata": {},
   "outputs": [
    {
     "name": "stdout",
     "output_type": "stream",
     "text": [
      "Model: \"sequential_3\"\n",
      "_________________________________________________________________\n",
      "Layer (type)                 Output Shape              Param #   \n",
      "=================================================================\n",
      "embedding_3 (Embedding)      (None, 100, 100)          1000000   \n",
      "_________________________________________________________________\n",
      "flatten_3 (Flatten)          (None, 10000)             0         \n",
      "_________________________________________________________________\n",
      "dense_4 (Dense)              (None, 32)                320032    \n",
      "_________________________________________________________________\n",
      "dense_5 (Dense)              (None, 1)                 33        \n",
      "=================================================================\n",
      "Total params: 1,320,065\n",
      "Trainable params: 1,320,065\n",
      "Non-trainable params: 0\n",
      "_________________________________________________________________\n",
      "Train on 200 samples, validate on 10000 samples\n",
      "Epoch 1/10\n",
      "200/200 [==============================] - 0s 2ms/step - loss: 0.6981 - acc: 0.4700 - val_loss: 0.6946 - val_acc: 0.5040\n",
      "Epoch 2/10\n",
      "200/200 [==============================] - 0s 1ms/step - loss: 0.5309 - acc: 0.9450 - val_loss: 0.6982 - val_acc: 0.5083\n",
      "Epoch 3/10\n",
      "200/200 [==============================] - 0s 1ms/step - loss: 0.3314 - acc: 0.9700 - val_loss: 0.6954 - val_acc: 0.5194\n",
      "Epoch 4/10\n",
      "200/200 [==============================] - 0s 1ms/step - loss: 0.1588 - acc: 1.0000 - val_loss: 0.7032 - val_acc: 0.5174\n",
      "Epoch 5/10\n",
      "200/200 [==============================] - 0s 1ms/step - loss: 0.0754 - acc: 1.0000 - val_loss: 0.7068 - val_acc: 0.5211\n",
      "Epoch 6/10\n",
      "200/200 [==============================] - 0s 1ms/step - loss: 0.0392 - acc: 1.0000 - val_loss: 0.7378 - val_acc: 0.5164\n",
      "Epoch 7/10\n",
      "200/200 [==============================] - 0s 2ms/step - loss: 0.0216 - acc: 1.0000 - val_loss: 0.7233 - val_acc: 0.5210\n",
      "Epoch 8/10\n",
      "200/200 [==============================] - 0s 1ms/step - loss: 0.0122 - acc: 1.0000 - val_loss: 0.7347 - val_acc: 0.5218\n",
      "Epoch 9/10\n",
      "200/200 [==============================] - 0s 1ms/step - loss: 0.0073 - acc: 1.0000 - val_loss: 0.7335 - val_acc: 0.5218\n",
      "Epoch 10/10\n",
      "200/200 [==============================] - 0s 1ms/step - loss: 0.0044 - acc: 1.0000 - val_loss: 0.7423 - val_acc: 0.5227\n"
     ]
    },
    {
     "data": {
      "image/png": "[encoded data removed]",
      "text/plain": [
       "<Figure size 432x288 with 1 Axes>"
      ]
     },
     "metadata": {
      "needs_background": "light"
     },
     "output_type": "display_data"
    },
    {
     "data": {
      "image/png": "[encoded data removed]",
      "text/plain": [
       "<Figure size 432x288 with 1 Axes>"
      ]
     },
     "metadata": {
      "needs_background": "light"
     },
     "output_type": "display_data"
    }
   ],
   "source": [
    "model = Sequential()\n",
    "model.add(Embedding(max_words,embedding_dim,input_length=maxlen))\n",
    "model.add(Flatten())\n",
    "model.add(Dense(32,activation='relu'))\n",
    "model.add(Dense(1,activation='sigmoid'))\n",
    "model.summary()\n",
    "\n",
    "model.compile(optimizer='rmsprop',loss='binary_crossentropy',metrics=['acc'])\n",
    "history = model.fit(x_train,y_train,epochs=10,batch_size=32,validation_data=(x_val,y_val))\n",
    "\n",
    "history_dict = history.history\n",
    "\n",
    "acc = history_dict['acc']\n",
    "val_acc = history_dict['val_acc']\n",
    "\n",
    "loss = history_dict['loss']\n",
    "val_loss = history_dict['val_loss']\n",
    "\n",
    "epoch = range(1,len(loss)+1)\n",
    "\n",
    "plt.plot(epoch,acc,'bo',label='Training Accuracy')\n",
    "plt.plot(epoch,val_acc,'b',label='Validation Accuracy')\n",
    "plt.title('Training and Validation Accuracy Visualization')\n",
    "plt.xlabel('Epoch')\n",
    "plt.ylabel('Accuracy')\n",
    "plt.legend()\n",
    "plt.figure()\n",
    "\n",
    "plt.plot(epoch,loss,'bo',label='Training Loss')\n",
    "plt.plot(epoch,val_loss,'b',label='Validation Loss')\n",
    "plt.title('Training and Validation Loss Visualization')\n",
    "\n",
    "plt.xlabel('Epoch')\n",
    "plt.ylabel('Loss')\n",
    "plt.legend()\n",
    "\n",
    "plt.show()"
   ]
  },
  {
   "cell_type": "markdown",
   "metadata": {},
   "source": [
    "**Test Datset으로 Model결과 확인**  \n",
    "Test Dataset으로 Model의 Accuracy를 확인한다.  \n",
    "결과적으로 Test Dataset으로도 50%의 Accuracy밖에 안되는 것을 확인할 수 있다."
   ]
  },
  {
   "cell_type": "code",
   "execution_count": 13,
   "metadata": {},
   "outputs": [
    {
     "name": "stdout",
     "output_type": "stream",
     "text": [
      "25000/25000 [==============================] - 0s 17us/step\n"
     ]
    },
    {
     "data": {
      "text/plain": [
       "[0.7379635489845275, 0.5704799890518188]"
      ]
     },
     "execution_count": 13,
     "metadata": {},
     "output_type": "execute_result"
    }
   ],
   "source": [
    "imdb_dir = './Dataset/aclImdb/'\n",
    "test_dir = os.path.join(imdb_dir,'test/')\n",
    "\n",
    "labels = []\n",
    "texts = []\n",
    "\n",
    "for label_type in ['neg','pos']:\n",
    "    dir_name = os.path.join(test_dir,label_type)\n",
    "    for fname in os.listdir(dir_name):\n",
    "        if fname[-4:] == '.txt':\n",
    "            f = open(os.path.join(dir_name,fname),encoding='utf8')\n",
    "            texts.append(f.read())\n",
    "            f.close()\n",
    "                \n",
    "            if label_type == 'neg':\n",
    "                labels.append(0)\n",
    "            else:\n",
    "                labels.append(1)\n",
    "\n",
    "sequences = tokenizer.texts_to_sequences(texts)\n",
    "x_test = pad_sequences(sequences,maxlen=maxlen)\n",
    "y_test = np.asarray(labels)\n",
    "\n",
    "model.load_weights('./Model/pre_trained_glove_model.h5')\n",
    "model.evaluate(x_test,y_test)"
   ]
  },
  {
   "cell_type": "markdown",
   "metadata": {},
   "source": [
    "### RNN\n",
    "RNN의 사전 지식이 부족하시면 <a href=\"https://wjddyd66.github.io/dl/RNN/\">4. RNN</a> 을 참조하시면 많은 도움이 됩니다.  \n",
    "Tensor 1.x와 Pytorch, Python에서 어떻게 돌아가는지 확인하였으므로 Keras를 통해서는 어떻게 Network를 구축하는지 알아보자.  \n",
    "\n",
    "**데이터 전처리**  \n",
    "RNN Network의 Input과 Output의 Dataset을 먼저 구축한다.  \n",
    "Dataset은 위에서도 계속적으로 사용한 IMDB 데이터를 사용하여 구축한다."
   ]
  },
  {
   "cell_type": "code",
   "execution_count": 14,
   "metadata": {},
   "outputs": [
    {
     "name": "stdout",
     "output_type": "stream",
     "text": [
      "데이터 로깅...\n",
      "25000 훈련 시퀀스\n",
      "25000 테스트 시퀀스\n",
      "input_train 크기 (25000, 500)\n",
      "input_test 크기 (25000, 500)\n"
     ]
    }
   ],
   "source": [
    "max_features = 10000\n",
    "maxlen = 500\n",
    "batch_size = 32\n",
    "\n",
    "print('데이터 로깅...')\n",
    "(x_train, y_train),(x_test,y_test) = imdb.load_data(num_words=max_features)\n",
    "print(len(x_train), '훈련 시퀀스')\n",
    "print(len(x_test),'테스트 시퀀스')\n",
    "\n",
    "x_train = pad_sequences(x_train,maxlen=maxlen)\n",
    "x_test = pad_sequences(x_test,maxlen=maxlen)\n",
    "\n",
    "print('input_train 크기', x_train.shape)\n",
    "print('input_test 크기', x_test.shape)"
   ]
  },
  {
   "cell_type": "markdown",
   "metadata": {},
   "source": [
    "**Model 구축 및 Train**  \n",
    "**Keras에서 RNN을 구축하는 유틸리티를 제공한다.**  \n",
    "먼저 Keras에서 제공하는 SimpleRNN을 살펴보면 다음과 같다.  \n",
    "<code>keras.layers.SimpleRNN(units, activation='tanh', use_bias=True, kernel_initializer='glorot_uniform', recurrent_initializer='orthogonal', bias_initializer='zeros', kernel_regularizer=None, recurrent_regularizer=None, bias_regularizer=None, activity_regularizer=None, kernel_constraint=None, recurrent_constraint=None, bias_constraint=None, dropout=0.0, recurrent_dropout=0.0, return_sequences=False, return_state=False, go_backwards=False, stateful=False, unroll=False)</code>\n",
    "\n",
    "각각의 Argument는 너무 많아서 <a href=\"https://keras.io/layers/recurrent/\">Keras 정식 홈페이지</a>를 참조하자.  \n",
    "기본적으로 사용하기 주로 사용하는 Argument를 살펴보면 다음과 같다.  \n",
    "- units: OutputSpace의 Dimension을 정의한다.\n",
    "- activation: tanh를 사용한다. tanh나 relu를 사용하지만 Keras는 tanh를 Default로서 사용한다.\n",
    "\n",
    "나머지 Argument는 이름그대로 사용하는 그대로 나와있어서 이해하는데 어려움이 없을 것 같다.  \n",
    "\n"
   ]
  },
  {
   "cell_type": "code",
   "execution_count": 15,
   "metadata": {},
   "outputs": [
    {
     "name": "stdout",
     "output_type": "stream",
     "text": [
      "Train on 20000 samples, validate on 5000 samples\n",
      "Epoch 1/10\n",
      "20000/20000 [==============================] - 11s 552us/step - loss: 0.5858 - acc: 0.6799 - val_loss: 0.4576 - val_acc: 0.7916\n",
      "Epoch 2/10\n",
      "20000/20000 [==============================] - 11s 543us/step - loss: 0.3726 - acc: 0.8483 - val_loss: 0.3386 - val_acc: 0.8660\n",
      "Epoch 3/10\n",
      "20000/20000 [==============================] - 11s 558us/step - loss: 0.2881 - acc: 0.8878 - val_loss: 0.4305 - val_acc: 0.7990\n",
      "Epoch 4/10\n",
      "20000/20000 [==============================] - 11s 567us/step - loss: 0.2368 - acc: 0.9097 - val_loss: 0.3627 - val_acc: 0.8732\n",
      "Epoch 5/10\n",
      "20000/20000 [==============================] - 11s 563us/step - loss: 0.1883 - acc: 0.9298 - val_loss: 0.3749 - val_acc: 0.8620\n",
      "Epoch 6/10\n",
      "20000/20000 [==============================] - 11s 572us/step - loss: 0.1474 - acc: 0.9470 - val_loss: 0.4472 - val_acc: 0.8210\n",
      "Epoch 7/10\n",
      "20000/20000 [==============================] - 11s 567us/step - loss: 0.1130 - acc: 0.9607 - val_loss: 0.4576 - val_acc: 0.8276\n",
      "Epoch 8/10\n",
      "20000/20000 [==============================] - 11s 569us/step - loss: 0.0836 - acc: 0.9710 - val_loss: 0.4412 - val_acc: 0.8672\n",
      "Epoch 9/10\n",
      "20000/20000 [==============================] - 11s 572us/step - loss: 0.0599 - acc: 0.9803 - val_loss: 0.6196 - val_acc: 0.7800\n",
      "Epoch 10/10\n",
      "20000/20000 [==============================] - 11s 561us/step - loss: 0.0525 - acc: 0.9829 - val_loss: 0.6568 - val_acc: 0.7866\n"
     ]
    }
   ],
   "source": [
    "model = Sequential()\n",
    "model.add(Embedding(max_features,32))\n",
    "model.add(SimpleRNN(32))\n",
    "model.add(Dense(1,activation='sigmoid'))\n",
    "\n",
    "model.compile(optimizer='rmsprop',loss='binary_crossentropy',metrics=['acc'])\n",
    "\n",
    "history = model.fit(x_train,y_train,epochs=10,batch_size=128,validation_split=0.2)"
   ]
  },
  {
   "cell_type": "markdown",
   "metadata": {},
   "source": [
    "**결과 시각화**  \n",
    "대략적으로 80%정도의 정확도를 얻을 수 있다  \n",
    "현실적으로 실제 Text처리하는데 있어서 현재 Input으로 들어오는 Data의 Vector의 차원은 500이다.  \n",
    "따라서 RNN Network의 구조의 한계로서 **Long Term Dependency**가 발생할 수 없을 것 이다."
   ]
  },
  {
   "cell_type": "code",
   "execution_count": 16,
   "metadata": {},
   "outputs": [
    {
     "data": {
      "image/png": "[encoded data removed]",
      "text/plain": [
       "<Figure size 432x288 with 1 Axes>"
      ]
     },
     "metadata": {
      "needs_background": "light"
     },
     "output_type": "display_data"
    },
    {
     "data": {
      "image/png": "[encoded data removed]",
      "text/plain": [
       "<Figure size 432x288 with 1 Axes>"
      ]
     },
     "metadata": {
      "needs_background": "light"
     },
     "output_type": "display_data"
    }
   ],
   "source": [
    "history_dict = history.history\n",
    "\n",
    "acc = history_dict['acc']\n",
    "val_acc = history_dict['val_acc']\n",
    "\n",
    "loss = history_dict['loss']\n",
    "val_loss = history_dict['val_loss']\n",
    "\n",
    "epoch = range(1,len(loss)+1)\n",
    "\n",
    "plt.plot(epoch,acc,'bo',label='Training Accuracy')\n",
    "plt.plot(epoch,val_acc,'b',label='Validation Accuracy')\n",
    "plt.title('Training and Validation Accuracy Visualization')\n",
    "plt.xlabel('Epoch')\n",
    "plt.ylabel('Accuracy')\n",
    "plt.legend()\n",
    "plt.figure()\n",
    "\n",
    "plt.plot(epoch,loss,'bo',label='Training Loss')\n",
    "plt.plot(epoch,val_loss,'b',label='Validation Loss')\n",
    "plt.title('Training and Validation Loss Visualization')\n",
    "\n",
    "plt.xlabel('Epoch')\n",
    "plt.ylabel('Loss')\n",
    "plt.legend()\n",
    "\n",
    "plt.show()"
   ]
  },
  {
   "cell_type": "markdown",
   "metadata": {},
   "source": [
    "### LSTM\n",
    "LSTM의 사전 지식이 부족하시면 <a href=\"https://wjddyd66.github.io/dl/LSTM/\">5. LSTM</a> 을 참조하시면 많은 도움이 됩니다. \n",
    "위의 링크와 위의 예제에서도 살펴보았듯이 RNN을 사용하게 되는 경우 Network의 구조상 Input의 Vector의 Dimension이 커질수록 **Long Term Dependency가 발생하게 되어 Vanishing Gradient Problem**이 발생(Exploding Gradients는 발생 X)하게 된다.  \n",
    "이러한 문제를 해결하기 좋은 대표적인 Network는 LSTM과 GRU이다.  \n",
    "그 중 Keras에서 지원하는 LSTM에 대해서 알아보자.  \n",
    "\n",
    "**Model 구축 및 Train**  \n",
    "**Keras에서 LSTM을 구축하는 유틸리티를 제공한다.**  \n",
    "먼저 Keras에서 제공하는 SimpleLSTM을 살펴보면 다음과 같다.  \n",
    "<code>keras.layers.LSTM(units, activation='tanh', recurrent_activation='sigmoid', use_bias=True, kernel_initializer='glorot_uniform', recurrent_initializer='orthogonal', bias_initializer='zeros', unit_forget_bias=True, kernel_regularizer=None, recurrent_regularizer=None, bias_regularizer=None, activity_regularizer=None, kernel_constraint=None, recurrent_constraint=None, bias_constraint=None, dropout=0.0, recurrent_dropout=0.0, implementation=2, return_sequences=False, return_state=False, go_backwards=False, stateful=False, unroll=False)</code>\n",
    "\n",
    "각각의 Argument는 너무 많아서 <a href=\"https://keras.io/layers/recurrent/\">Keras 정식 홈페이지</a>를 참조하자.  \n",
    "기본적으로 사용하기 주로 사용하는 Argument를 살펴보면 다음과 같다.  \n",
    "- units: OutputSpace의 Dimension을 정의한다.\n",
    "- activation: tanh를 사용한다. tanh나 relu를 사용하지만 Keras는 tanh를 Default로서 사용한다.\n",
    "\n",
    "나머지 Argument는 이름그대로 사용하는 그대로 나와있어서 이해하는데 어려움이 없을 것 같다."
   ]
  },
  {
   "cell_type": "code",
   "execution_count": 17,
   "metadata": {},
   "outputs": [
    {
     "name": "stdout",
     "output_type": "stream",
     "text": [
      "Train on 20000 samples, validate on 5000 samples\n",
      "Epoch 1/10\n",
      "20000/20000 [==============================] - 28s 1ms/step - loss: 0.5017 - acc: 0.7675 - val_loss: 0.3245 - val_acc: 0.8690\n",
      "Epoch 2/10\n",
      "20000/20000 [==============================] - 28s 1ms/step - loss: 0.2970 - acc: 0.8848 - val_loss: 0.3846 - val_acc: 0.8542\n",
      "Epoch 3/10\n",
      "20000/20000 [==============================] - 28s 1ms/step - loss: 0.2314 - acc: 0.9136 - val_loss: 0.2821 - val_acc: 0.8914\n",
      "Epoch 4/10\n",
      "20000/20000 [==============================] - 30s 1ms/step - loss: 0.2049 - acc: 0.9244 - val_loss: 0.2839 - val_acc: 0.8856\n",
      "Epoch 5/10\n",
      "20000/20000 [==============================] - 28s 1ms/step - loss: 0.1807 - acc: 0.9341 - val_loss: 0.5582 - val_acc: 0.8210\n",
      "Epoch 6/10\n",
      "20000/20000 [==============================] - 28s 1ms/step - loss: 0.1596 - acc: 0.9431 - val_loss: 0.3445 - val_acc: 0.8748\n",
      "Epoch 7/10\n",
      "20000/20000 [==============================] - 28s 1ms/step - loss: 0.1495 - acc: 0.9457 - val_loss: 0.3103 - val_acc: 0.8850\n",
      "Epoch 8/10\n",
      "20000/20000 [==============================] - 28s 1ms/step - loss: 0.1318 - acc: 0.9542 - val_loss: 0.3251 - val_acc: 0.8838\n",
      "Epoch 9/10\n",
      "20000/20000 [==============================] - 29s 1ms/step - loss: 0.1255 - acc: 0.9570 - val_loss: 0.3347 - val_acc: 0.8698\n",
      "Epoch 10/10\n",
      "20000/20000 [==============================] - 28s 1ms/step - loss: 0.1170 - acc: 0.9599 - val_loss: 0.3712 - val_acc: 0.8732\n"
     ]
    }
   ],
   "source": [
    "model = Sequential()\n",
    "model.add(Embedding(max_features,32))\n",
    "model.add(LSTM(32))\n",
    "model.add(Dense(1,activation='sigmoid'))\n",
    "\n",
    "model.compile(optimizer='rmsprop',loss='binary_crossentropy',metrics=['acc'])\n",
    "\n",
    "history = model.fit(x_train,y_train,epochs=10,batch_size=128,validation_split=0.2)"
   ]
  },
  {
   "cell_type": "markdown",
   "metadata": {},
   "source": [
    "**결과 시각화**  \n",
    "대략적으로 85%정도의 정확도를 얻을 수 있다.  \n",
    "LSTM또한 만족스럽지 못한 결과를 얻었다.  \n",
    "이전 <a href=\"https://wjddyd66.github.io/dl/LSTM/#%EA%B0%9C%EC%84%A0%EB%90%9C-time-lstm\">LSTM</a>에서도 언급하였듯이 LSTM을 개선하기 위한 방법이 존재한다.  \n",
    "대표적인 예로 Dropout, 양방향 LSTM, Attention Network구조 등이 존재하게 된다."
   ]
  },
  {
   "cell_type": "code",
   "execution_count": 18,
   "metadata": {},
   "outputs": [
    {
     "data": {
      "image/png": "[encoded data removed]",
      "text/plain": [
       "<Figure size 432x288 with 1 Axes>"
      ]
     },
     "metadata": {
      "needs_background": "light"
     },
     "output_type": "display_data"
    },
    {
     "data": {
      "image/png": "[encoded data removed]",
      "text/plain": [
       "<Figure size 432x288 with 1 Axes>"
      ]
     },
     "metadata": {
      "needs_background": "light"
     },
     "output_type": "display_data"
    }
   ],
   "source": [
    "history_dict = history.history\n",
    "\n",
    "acc = history_dict['acc']\n",
    "val_acc = history_dict['val_acc']\n",
    "\n",
    "loss = history_dict['loss']\n",
    "val_loss = history_dict['val_loss']\n",
    "\n",
    "epoch = range(1,len(loss)+1)\n",
    "\n",
    "plt.plot(epoch,acc,'bo',label='Training Accuracy')\n",
    "plt.plot(epoch,val_acc,'b',label='Validation Accuracy')\n",
    "plt.title('Training and Validation Accuracy Visualization')\n",
    "plt.xlabel('Epoch')\n",
    "plt.ylabel('Accuracy')\n",
    "plt.legend()\n",
    "plt.figure()\n",
    "\n",
    "plt.plot(epoch,loss,'bo',label='Training Loss')\n",
    "plt.plot(epoch,val_loss,'b',label='Validation Loss')\n",
    "plt.title('Training and Validation Loss Visualization')\n",
    "\n",
    "plt.xlabel('Epoch')\n",
    "plt.ylabel('Loss')\n",
    "plt.legend()\n",
    "\n",
    "plt.show()"
   ]
  },
  {
   "cell_type": "markdown",
   "metadata": {},
   "source": [
    "### RNN의 고급 사용법\n",
    "먼저 위의 결과를 다시 상기시키고 넘어가자.  \n",
    "**RNN은 Network의 구조상 Long Term Dependecy로 인하여 Model의 성능이 좋지 못하였다.**  \n",
    "**RNN의 Long Term Dependency를 해결하기 위하여 LSTM을 사용하였으나 Model의 성능은 좋지 못하였다.**  \n",
    "따라서 LSTM에서 좀 더 Model의 성능을 높이기 위하여 다음과 같은 방법을 적용한다.  \n",
    "1) 순환 드롭아웃(recurrenet dropout): 순환 층에서 과대적합을 방지하기 위해 케라스에 내장되어 있는 드롭아웃  \n",
    "\n",
    "2) 스태킹 순환 층(stacking recurrnet layer): <a href=\"https://machinelearningmastery.com/stacked-long-short-term-memory-networks/\">machinelearningmastery</a>에서는 Stacking recurrnet Layer를 다음과 같이 설명하였다.  \n",
    ">Stacked LSTMs or Deep LSTMs were introduced by Graves, et al. in their application of LSTMs to speech recognition, beating a benchmark on a challenging standard problem. RNNs are inherently deep in time, since their hidden state is a function of all previous hidden states. The question that inspired this paper was whether RNNs could also benefit from depth in space; that is from stacking multiple recurrent hidden layers on top of each other, just as feedforward layers are stacked in conventional deep networks.\n",
    "\n",
    "위의 설명을 조금 쉽게 설명하면 개인적으로는 **RNN이라는 Network자체는 연속적인 데이터 중에서도 특정 Domain을 기준으로 분포되어있는 Data에 특화되어있는 Data를 해석하기 위한 Network라고 생각한다.**  \n",
    "지금까지 해온 예로서 설명해보면 Text Data를 Input으로 넣었다.  \n",
    "여기에서 Embedding의 경우에는 특정 단어를 기준으로 Window안에 있는 단어와의 상관관계를 통하여 Embedding 행렬로서 표현(Dog = [0.001, 0,02, ...])하였다.  \n",
    "좀 더 자세히 알아보면 먼저 CBOW Embedding을 살펴보면 다음과 같다.  \n",
    "<img src=\"https://files.slack.com/files-pri/T25783BPY-F6P9HGPGS/sliding_window.png?pub_secret=2f5ff24df3\" height=\"250\" width=\"600\"><br>\n",
    "즉, 주변 Word로 인하여 Target Word를 특정 Feature의 값으로서 표현한 것이기 때문에 단어의 순서에 대한 Domain에 결과라고 표현할 수 있다.  \n",
    "따라서 RNN에 넣는 Data를 Embedding으로서 전처리하여 표현할 수 있다.  \n",
    "**하지만 하나의 LSTM Model로서 구현하게 되면 하나의 특정 Domain에 대한 Model의 예측 결과를 뽑아낼 수 밖에 없다.**  \n",
    "따라서 **스태킹 순환 층이란 여러개의 LSTM Model로서 구현하게 되어 하나의 특정 Domain이 아닌 여러 Domain에 대한 Model의 예측 결과를 뽑아내는 것 이다.** 그림으로서 표현하게 되면 다음과 같다.  \n",
    "<img src=\"https://3qeqpr26caki16dnhd19sv6by6v-wpengine.netdna-ssl.com/wp-content/uploads/2017/07/architecture_stacked_lstm.png\"/><br>\n",
    "사진 참조: <a href=\"https://machinelearningmastery.com/stacked-long-short-term-memory-networks/\">machinelearningmastery</a><br>\n",
    "중요한 점은 LSTM은 특정 Domain에 대한 Output을 뽑아내는 Model이므로 맨 위의 LSTM의 output은 하나의 Sequence로서 나와야 한다는 것 이다.  \n",
    "\n",
    "3) 양방향 순환 층(bidirectional recurrent layer): LSTM으로서 Long Term Dependency 어느 정도 해결하였어도 전부 다 해결된 것이 아니다. 따라서 하나의 Sequence를 원본 그대로 넣고, 순서를 거꾸로 뒤집어서 넣음으로 인하여 Model의 성능을 향상시킨다.  \n",
    "예를들어 영어 Text인 경우 문장의 5형식을 생각해보면 S,V 가 맨 앞에 오게 된다.  \n",
    "문장의 요소중에 가장 중요하다고 할 수 있는 S,V가 앞에 오므로 Google을 Model을 Training할 때 문장의 순서를 뒤집어서 넣는 것으로 인하여 Model의 성능을 향상시켰다고 한다.  \n",
    "\n",
    "\n",
    "#### 기온 예측 문제\n",
    "이번 기온 예측 문제는 날씨의 데이터에 관해서 예측하는 Model을 만드는 것을 목적으로 한다.  \n",
    "Data는 특정 시간에 따라서 기온, 기압, 습도, 풍향 등 14개의 관측치가 10분마다 기록되어 있다.  \n",
    "따라서 위에서 설명한 LSTM의 Model향상을 위한 3가지 기법을 적용하면서 Time Domain에 따른 연속적인 날씨 Data를 활용하여 예측하는 Model을 만드는 것을 목적으로 한다.  \n",
    "\n",
    "**날씨 데이터셋 조사하기**  \n",
    "먼저 <a href=\"https://s3.amazonaws.com/keras-datasets/jena_climate_2009_2016.csv.zip\">Amazon의 날씨 데이터</a>를 다운받는다.  \n",
    "다운받은 Data를 확인하게 되면 Time에 따른 각각의 요소들의 값을 확인할 수 있다."
   ]
  },
  {
   "cell_type": "code",
   "execution_count": 39,
   "metadata": {},
   "outputs": [
    {
     "name": "stdout",
     "output_type": "stream",
     "text": [
      "Header\n",
      "['\"Date Time\"', '\"p (mbar)\"', '\"T (degC)\"', '\"Tpot (K)\"', '\"Tdew (degC)\"', '\"rh (%)\"', '\"VPmax (mbar)\"', '\"VPact (mbar)\"', '\"VPdef (mbar)\"', '\"sh (g/kg)\"', '\"H2OC (mmol/mol)\"', '\"rho (g/m**3)\"', '\"wv (m/s)\"', '\"max. wv (m/s)\"', '\"wd (deg)\"']\n",
      "Data\n",
      "01.01.2009 00:10:00,996.52,-8.02,265.40,-8.90,93.30,3.33,3.11,0.22,1.94,3.12,1307.75,1.03,1.75,152.30\n"
     ]
    }
   ],
   "source": [
    "data_dir = './Dataset'\n",
    "fname = os.path.join(data_dir, 'jena_climate_2009_2016.csv')\n",
    "\n",
    "f = open(fname)\n",
    "data = f.read()\n",
    "f.close()\n",
    "\n",
    "lines = data.split('\\n')\n",
    "header = lines[0].split(',')\n",
    "lines = lines[1:]\n",
    "\n",
    "print('Header')\n",
    "print(header)\n",
    "print('Data')\n",
    "print(lines[0])"
   ]
  },
  {
   "cell_type": "markdown",
   "metadata": {},
   "source": [
    "**데이터 전처리 및 시각화**  \n",
    "위에서 다운받고 확인한 데이터를 Model에 넣기위한 전처리 과정으로서 Numpy로 Data의 구조를 변형시키고 전체 기간의 온도 시각화와, 10일간의 온도 변화 시각화를 통하여 Data를 살펴본다.  \n",
    "\n",
    "데이터셋 전체 기간의 온도를 보게 되면 일정한 주기마다 특정한 분포를 보여주는 것을 확인할 수 있다."
   ]
  },
  {
   "cell_type": "code",
   "execution_count": 40,
   "metadata": {},
   "outputs": [
    {
     "data": {
      "image/png": "[encoded data removed]",
      "text/plain": [
       "<Figure size 432x288 with 1 Axes>"
      ]
     },
     "metadata": {
      "needs_background": "light"
     },
     "output_type": "display_data"
    },
    {
     "data": {
      "image/png": "[encoded data removed]",
      "text/plain": [
       "<Figure size 432x288 with 1 Axes>"
      ]
     },
     "metadata": {
      "needs_background": "light"
     },
     "output_type": "display_data"
    }
   ],
   "source": [
    "float_data = np.zeros((len(lines),len(header)-1))\n",
    "for i,line in enumerate(lines):\n",
    "    values = [float(x) for x in line.split(',')[1:]]\n",
    "    float_data[i,:] = values\n",
    "    \n",
    "temp = float_data[:,1]\n",
    "\n",
    "plt.plot(range(len(temp)),temp)\n",
    "plt.title('Full time temperature change')\n",
    "plt.figure()\n",
    "\n",
    "plt.plot(range(1440),temp[:1440])\n",
    "plt.title('10 days temperature change')\n",
    "\n",
    "plt.show()"
   ]
  },
  {
   "cell_type": "markdown",
   "metadata": {},
   "source": [
    "**데이터 전처리2**  \n",
    "최종적인 Model은 14가지의 Factor 중 13개의 Factor를 통하여 온도 Factor를 예측해야 하는 Model이다. 전처리 과정으로서 2가지의 제약사항을 먼저 생각해야 한다.  \n",
    "1. 13개의 Factor는 값의 범위가 다르다. 따라서 Normalization을 해서 정규화 과정을 거쳐야 한다.\n",
    "2. Data의 Size가 너무 크므로 Generator를 사용하여 Memory를 효율적으로 사용하여야 한다.\n",
    "\n",
    "먼저 Normalization의 경우 다음과 같이 Z-score로서 나타낼 수 있다."
   ]
  },
  {
   "cell_type": "code",
   "execution_count": 41,
   "metadata": {},
   "outputs": [],
   "source": [
    "mean = float_data[:200000].mean(axis=0)\n",
    "float_data -= mean\n",
    "std = float_data[:200000].std(axis=0)\n",
    "float_data /= std"
   ]
  },
  {
   "cell_type": "markdown",
   "metadata": {},
   "source": [
    "Data를 가져오는 Generator를 만들기 전에 우선 Generator가 무엇인지 부터 알아보자.  \n",
    "Python Docs에서는 Generator를 다음과 같이 설명하였다.  \n",
    ">generator\n",
    "A function which returns an iterator. It looks like a normal function except that it contains yield statements for producing a series of values usable in a for-loop or that can be retrieved one at a time with the next() function. Each yield temporarily suspends processing, remembering the location execution state (including local variables and pending try-statements). When the generator resumes, it picks-up where it left-off (in contrast to functions which start fresh on every invocation).\n",
    "\n",
    "즉, Generator는 iterator를 생성해주는 Function이다. iterator는 next() Method를 이용해 데이터에 순차적으로 접근이 가능하 Object이다.  \n",
    "**Generator와 Function의 가장 큰 차이점은 yield를 사용한다는 것 이다.**  \n",
    "먼저 일반적인 Function인 경우 사용이 종료되면 결과값이 호출부로 반환 후 함수 자체를 종료시킨 후 메모리 상에서 클리어 된다.  \n",
    "하지만 yield를 사용할 경우 반환값을 next()를 호출한 쪽으로 전달한 뒤 **일반적인 함수처럼 종료되는 것이 아니라 그 상태로 유지하게 된다. 즉, 함수에서 사용된 local변수나 instruction pointer등과 같은 함수 내부에서 사용된 데이터들이 메모리에 그대로 유지되는 것 이다.**  \n",
    "\n",
    "또한 이번에 Generator를 사용하게 된 이유 중 하나인 **Memory**를 효율적으로 사용할 수 있다.  \n",
    "List와 비교하면 **List는 List안에 속한 모든 데이터를 메모리에 적재하기 때문에 list의 크기 만큼 차지하는 메모리 사이즈가 늘어나게 된다. 하지만 generator의 경우 데이터 값을 한꺼번에 적재하는 것이 아니라 next()메소드를 통해 차례로 값에 접근할 때 마다 메모리를 적재하는 방식이다.**  \n",
    "\n",
    "아래 예시는 Generator의 next()로서 호출한다는 의미와 Memory사용랴을 확인할 수 있는 Code이다.  \n",
    "참조: <a href=\"https://bluese05.tistory.com/56\">ㅍㅍㅋㄷ 블로그</a>"
   ]
  },
  {
   "cell_type": "code",
   "execution_count": 42,
   "metadata": {},
   "outputs": [
    {
     "name": "stdout",
     "output_type": "stream",
     "text": [
      "0\n",
      "1\n",
      "2\n",
      "3\n",
      "4\n",
      "List\n",
      "528\n",
      "4272\n",
      "Generator\n",
      "88\n",
      "88\n"
     ]
    }
   ],
   "source": [
    "import sys\n",
    "# next() 예시\n",
    "def example_generator(n):\n",
    "    i = 0\n",
    "    while i < n:\n",
    "        yield i\n",
    "        i += 1\n",
    "\n",
    "\n",
    "for x in example_generator(5):\n",
    "    print(x)\n",
    "\n",
    "# Memory 사용 예시\n",
    "print('List')\n",
    "print(sys.getsizeof( [i for i in range(100) if i % 2] ))    # list\n",
    "print(sys.getsizeof( [i for i in range(1000) if i % 2] ))\n",
    "print('Generator')\n",
    "print(sys.getsizeof( (i for i in range(100) if i % 2) ))    # generator\n",
    "print(sys.getsizeof( (i for i in range(1000) if i % 2) ))"
   ]
  },
  {
   "cell_type": "markdown",
   "metadata": {},
   "source": [
    "데이터 셋을 생성하기 위한 제너레이터 함수는 (samples, targets) 튜플을 반복적으로 반환한다.  \n",
    "samples는 입력 데이터로 사용할 배치이고 targets은 이에 대응되는 타깃 온도의 배열입니다.  \n",
    "\n",
    "**Generator Argument**  \n",
    "* data: 원본 Data \n",
    "* lookback: 입력으로 사용하기 위해 거슬러 올라갈 타임스텝\n",
    "* delay: 타깃으로 사용할 미래의 타임스텝\n",
    "* min_index, max_index: 추출할 타임스텝의 범위를 지정하기 위한 data 배열의 인덱스. 검증 데이터와 테스트 데이터를 분리하는 데 사용합니다.\n",
    "* shuffle: 샘플을 섞을지 시간 순서대로 추출할지 결정합니다. Model의 성능을 높이기 위하여 Test Data의 경우 Shuffle을 통하여 Random한 Index의 Data를 생성하지만 Validation이나 Test의 경우에는 이러한 작업을 거치지 않습니다.\n",
    "* batch_size: 배치의 샘플 수\n",
    "* step: 데이터를 샘플링할 타임스텝 간격. 한 시간에 하나의 데이터 포인트를 추출하기 위해 6으로 지정하겠습니다.\n",
    "\n",
    "아래 generator()를 살펴보게 되면 batch_size만큼의 Data를 잘라오게 되고, 만약 shuffle이 True라면 Random하게 Data를 가져오게 된다. \n",
    "1. min_index ~ max_index까지의 Index중 Random하게 batch_size만큼을 rows에 저장\n",
    "2. Batch_size만큼의 Data를 만들게 되는데 samples = lookback/step의 개수 만큼 과거 ~ 현재까지의 Data, targets = delay의 개수만큼 현재 ~ 미래 까지의 Data를 반환한다.\n"
   ]
  },
  {
   "cell_type": "code",
   "execution_count": 43,
   "metadata": {},
   "outputs": [],
   "source": [
    "def generator(data, lookback, delay, min_index, max_index,\n",
    "              shuffle=False, batch_size=128, step=6):\n",
    "    if max_index is None:\n",
    "        max_index = len(data) - delay - 1\n",
    "    i = min_index + lookback\n",
    "    while 1:\n",
    "        if shuffle:\n",
    "            rows = np.random.randint(\n",
    "                min_index + lookback, max_index, size=batch_size)\n",
    "        else:\n",
    "            if i + batch_size >= max_index:\n",
    "                i = min_index + lookback\n",
    "            rows = np.arange(i, min(i + batch_size, max_index))\n",
    "            i += len(rows)\n",
    "\n",
    "        samples = np.zeros((len(rows),\n",
    "                           lookback // step,\n",
    "                           data.shape[-1]))\n",
    "        targets = np.zeros((len(rows),))\n",
    "        for j, row in enumerate(rows):\n",
    "            indices = range(rows[j] - lookback, rows[j], step)\n",
    "            samples[j] = data[indices]\n",
    "            targets[j] = data[rows[j] + delay][1]\n",
    "        yield samples, targets"
   ]
  },
  {
   "cell_type": "markdown",
   "metadata": {},
   "source": [
    "**데이터 전처리 3**  \n",
    "최종적으로 위에서 선언한 Generator를 사용하여 Train, Validation, Test Dataset을 구축한다.  \n",
    "최종적인 Dataset의 Parameter들을 생각하면 다음과 같다.  \n",
    "- test data: 먼저 10일치의 Data를 전부 가져오는게 아니라 step = 6으로 선언하여 1시간마다의 Data를 가져오게 된다.  \n",
    "- target data: 144 = 24*6 즉, 하루 뒤의 Data를 가져오게 된다.\n",
    "\n",
    "최종적인 Model은 지난 10일치의 14개의 Factor를 Input으로 넣고 Train하게 되어 현재 온도가 아닌 1일 후의 온도를 측정하는 Model로서 Training이 된다.  \n",
    "\n",
    "만약 Model을 Serving하게 된다면 현재 기준으로 10일치 전까지의 날씨 Factor를 Normalization을 통하여 Input으로 넣게 되면 내일 온도(시간은 동일 즉, 10시 10분이 기준이면 내일 10시 10분 온도)를 측정할 수 있는 것 이다."
   ]
  },
  {
   "cell_type": "code",
   "execution_count": 44,
   "metadata": {},
   "outputs": [],
   "source": [
    "lookback=1440\n",
    "batch_size=128\n",
    "step = 6\n",
    "delay = 144\n",
    "\n",
    "train_gen = generator(float_data,lookback=lookback,\n",
    "                     delay=delay,min_index=0,\n",
    "                     max_index=20000,shuffle=True,\n",
    "                     step=step,batch_size=batch_size)\n",
    "\n",
    "val_gen = generator(float_data,lookback=lookback,\n",
    "                     delay=delay,min_index=20001,\n",
    "                     max_index=30000,\n",
    "                     step=step,batch_size=batch_size)\n",
    "\n",
    "test_gen = generator(float_data,lookback=lookback,\n",
    "                     delay=delay,min_index=30001,\n",
    "                     max_index=None,\n",
    "                     step=step,batch_size=batch_size)\n",
    "\n",
    "val_steps = (30000-20001-lookback) // batch_size\n",
    "test_steps = (len(float_data)-30001-lookback) // batch_size"
   ]
  },
  {
   "cell_type": "markdown",
   "metadata": {},
   "source": [
    "**ANN Model Training**  \n",
    "LSTM, 개선된 LSTM Model을 Training을 하기전에 간단한 ANN Model로서 결과를 확인한다.  "
   ]
  },
  {
   "cell_type": "code",
   "execution_count": 26,
   "metadata": {
    "scrolled": true
   },
   "outputs": [
    {
     "name": "stdout",
     "output_type": "stream",
     "text": [
      "Epoch 1/20\n",
      "500/500 [==============================] - 4s 8ms/step - loss: 0.3286 - val_loss: 2.8611\n",
      "Epoch 2/20\n",
      "500/500 [==============================] - 4s 8ms/step - loss: 0.1458 - val_loss: 3.3544\n",
      "Epoch 3/20\n",
      "500/500 [==============================] - 4s 8ms/step - loss: 0.1085 - val_loss: 4.7486\n",
      "Epoch 4/20\n",
      "500/500 [==============================] - 4s 8ms/step - loss: 0.0872 - val_loss: 6.3157\n",
      "Epoch 5/20\n",
      "500/500 [==============================] - 4s 8ms/step - loss: 0.0778 - val_loss: 6.0312\n",
      "Epoch 6/20\n",
      "500/500 [==============================] - 4s 8ms/step - loss: 0.0715 - val_loss: 5.5751\n",
      "Epoch 7/20\n",
      "500/500 [==============================] - 4s 8ms/step - loss: 0.0677 - val_loss: 5.6917\n",
      "Epoch 8/20\n",
      "500/500 [==============================] - 4s 8ms/step - loss: 0.0649 - val_loss: 5.2994\n",
      "Epoch 9/20\n",
      "500/500 [==============================] - 4s 8ms/step - loss: 0.0625 - val_loss: 5.4658\n",
      "Epoch 10/20\n",
      "500/500 [==============================] - 4s 8ms/step - loss: 0.0610 - val_loss: 5.4273\n",
      "Epoch 11/20\n",
      "500/500 [==============================] - 4s 8ms/step - loss: 0.0596 - val_loss: 5.6046\n",
      "Epoch 12/20\n",
      "500/500 [==============================] - 4s 8ms/step - loss: 0.0585 - val_loss: 5.5953\n",
      "Epoch 13/20\n",
      "500/500 [==============================] - 4s 8ms/step - loss: 0.0576 - val_loss: 5.5928\n",
      "Epoch 14/20\n",
      "500/500 [==============================] - 4s 8ms/step - loss: 0.0569 - val_loss: 5.5139\n",
      "Epoch 15/20\n",
      "500/500 [==============================] - 4s 8ms/step - loss: 0.0564 - val_loss: 5.8107\n",
      "Epoch 16/20\n",
      "500/500 [==============================] - 4s 9ms/step - loss: 0.0561 - val_loss: 5.5950\n",
      "Epoch 17/20\n",
      "500/500 [==============================] - 4s 8ms/step - loss: 0.0554 - val_loss: 5.0739\n",
      "Epoch 18/20\n",
      "500/500 [==============================] - 4s 8ms/step - loss: 0.0551 - val_loss: 5.4811\n",
      "Epoch 19/20\n",
      "500/500 [==============================] - 4s 8ms/step - loss: 0.0545 - val_loss: 4.8406\n",
      "Epoch 20/20\n",
      "500/500 [==============================] - 4s 8ms/step - loss: 0.0542 - val_loss: 5.6241\n"
     ]
    }
   ],
   "source": [
    "model = Sequential()\n",
    "model.add(layers.Flatten(input_shape=(lookback // step, float_data.shape[-1])))\n",
    "model.add(layers.Dense(32,activation='relu'))\n",
    "model.add(layers.Dense(1))\n",
    "model.compile(optimizer=RMSprop(),loss='mae')\n",
    "\n",
    "history = model.fit_generator(train_gen, steps_per_epoch=500,epochs=20,\n",
    "                             validation_data=val_gen,validation_steps=val_steps)"
   ]
  },
  {
   "cell_type": "markdown",
   "metadata": {},
   "source": [
    "**Model 결과 시각화**  \n",
    "Training Loss는 0에 가깝지만, Validation Loss는 값이 낮아지지 않는 것을 확인할 수 있다."
   ]
  },
  {
   "cell_type": "code",
   "execution_count": 27,
   "metadata": {},
   "outputs": [
    {
     "data": {
      "image/png": "[encoded data removed]",
      "text/plain": [
       "<Figure size 432x288 with 1 Axes>"
      ]
     },
     "metadata": {
      "needs_background": "light"
     },
     "output_type": "display_data"
    }
   ],
   "source": [
    "history_dict = history.history\n",
    "\n",
    "loss = history_dict['loss']\n",
    "val_loss = history_dict['val_loss']\n",
    "\n",
    "epoch = range(1,len(loss)+1)\n",
    "\n",
    "plt.plot(epoch,loss,'bo',label='Training Loss')\n",
    "plt.plot(epoch,val_loss,'b',label='Validation Loss')\n",
    "plt.title('Training and Validation Loss Visualization')\n",
    "\n",
    "plt.xlabel('Epoch')\n",
    "plt.ylabel('Loss')\n",
    "plt.legend()\n",
    "\n",
    "plt.show()"
   ]
  },
  {
   "cell_type": "markdown",
   "metadata": {},
   "source": [
    "**LSTM Model Training**  \n",
    "책에서는 GRU를 통하여 Model을 구축하고 결과를 확인하였으나 다음과 같은 이유로 인하여 LSTM으로서 Model을 변경하고 결과를 확인합니다.  \n",
    "\n",
    "**참조사항**  \n",
    "<span style=\"color:red\">현재 저의 Keras의 Version은 2.3.1입니다. 하지만 LSTM, GRU Model을 사용하는 경우 recurrnet_dropout와 dropout을 특정 값으로 지정할 시 Error가 발생하게 됩니다.(Loss가 너무 커져 NaN값으로 추정)</span>  \n",
    "<a href=\"https://keras.io/layers/recurrent/\">Keras정식 홈페이지</a>에서 GRU의 Dropout Parameter를 살펴보게 되면  \n",
    "- dropout: Float between 0 and 1. Fraction of the units to drop for the linear transformation of the inputs.\n",
    "- recurrent_dropout: Float between 0 and 1. Fraction of the units to drop for the linear transformation of the recurrent state.\n",
    "\n",
    "하지만 작동하지 않았습니다.  \n",
    "따라서 Model을 Hpyerparameter Tuning을 먼저 성공한 LSTM으로 잡고 앞으로의 실습을 진행하였습니다.  \n",
    "\n",
    "RNN Network에서 사용하는 dropout과 recurrent_dropout에 대해서 다시 공부하고(다음 Post에정) 확인한 뒤 다시 Code에 제대로 적용시키려고 예상중 입니다.  \n",
    "\n",
    "현재 Dataset은 Time이라는 특정 Domain에 따라서 연속적인 값으로서 표현되어 있다.  \n",
    "따라서 이러한 Sequence에 강점을 보이는 RNN Network의 종류 중 하나를 선택하여서 결과를 확인한다.  \n",
    "RNN의 Network의 단점을 극복한 대표적인 Network로서 LSTM과 GRU가 있다고 소개하였었다.  \n",
    "이번 Network는 LSTM로서 Network를 구성하고 결과를 확인하자."
   ]
  },
  {
   "cell_type": "code",
   "execution_count": 28,
   "metadata": {
    "scrolled": false
   },
   "outputs": [
    {
     "name": "stdout",
     "output_type": "stream",
     "text": [
      "Epoch 1/20\n",
      "500/500 [==============================] - 39s 79ms/step - loss: 0.2206 - val_loss: 0.4943\n",
      "Epoch 2/20\n",
      "500/500 [==============================] - 39s 78ms/step - loss: 0.1484 - val_loss: 0.4906\n",
      "Epoch 3/20\n",
      "500/500 [==============================] - 39s 79ms/step - loss: 0.1148 - val_loss: 0.4806\n",
      "Epoch 4/20\n",
      "500/500 [==============================] - 40s 81ms/step - loss: 0.0984 - val_loss: 0.5474\n",
      "Epoch 5/20\n",
      "500/500 [==============================] - 39s 77ms/step - loss: 0.0872 - val_loss: 0.5672\n",
      "Epoch 6/20\n",
      "500/500 [==============================] - 39s 77ms/step - loss: 0.0787 - val_loss: 0.5807\n",
      "Epoch 7/20\n",
      "500/500 [==============================] - 38s 77ms/step - loss: 0.0734 - val_loss: 0.6164\n",
      "Epoch 8/20\n",
      "500/500 [==============================] - 39s 78ms/step - loss: 0.0682 - val_loss: 0.6040\n",
      "Epoch 9/20\n",
      "500/500 [==============================] - 39s 77ms/step - loss: 0.0655 - val_loss: 0.6090\n",
      "Epoch 10/20\n",
      "500/500 [==============================] - 39s 78ms/step - loss: 0.0626 - val_loss: 0.6006\n",
      "Epoch 11/20\n",
      "500/500 [==============================] - 39s 77ms/step - loss: 0.0618 - val_loss: 0.6358\n",
      "Epoch 12/20\n",
      "500/500 [==============================] - 39s 78ms/step - loss: 0.0587 - val_loss: 0.5986\n",
      "Epoch 13/20\n",
      "500/500 [==============================] - 39s 78ms/step - loss: 0.0560 - val_loss: 0.5826\n",
      "Epoch 14/20\n",
      "500/500 [==============================] - 38s 77ms/step - loss: 0.0545 - val_loss: 0.6157\n",
      "Epoch 15/20\n",
      "500/500 [==============================] - 39s 78ms/step - loss: 0.0525 - val_loss: 0.5882\n",
      "Epoch 16/20\n",
      "500/500 [==============================] - 38s 76ms/step - loss: 0.0515 - val_loss: 0.5924\n",
      "Epoch 17/20\n",
      "500/500 [==============================] - 39s 77ms/step - loss: 0.0502 - val_loss: 0.6023\n",
      "Epoch 18/20\n",
      "500/500 [==============================] - 39s 78ms/step - loss: 0.0488 - val_loss: 0.5641\n",
      "Epoch 19/20\n",
      "500/500 [==============================] - 39s 77ms/step - loss: 0.0489 - val_loss: 0.5112\n",
      "Epoch 20/20\n",
      "500/500 [==============================] - 39s 77ms/step - loss: 0.0534 - val_loss: 0.5119\n"
     ]
    }
   ],
   "source": [
    "model = Sequential()\n",
    "model.add(layers.LSTM(32,input_shape=(None, float_data.shape[-1])))\n",
    "model.add(layers.Dense(1))\n",
    "model.compile(optimizer='rmsprop',loss='mae')\n",
    "\n",
    "history = model.fit_generator(train_gen, steps_per_epoch=500,epochs=20,\n",
    "                             validation_data=val_gen,validation_steps=val_steps)"
   ]
  },
  {
   "cell_type": "markdown",
   "metadata": {},
   "source": [
    "**Model 결과 시각화**  \n",
    "Model의 Loss가 많이 개선되었지만 Overfitting이 발생하는 것을 확인할 수 있다."
   ]
  },
  {
   "cell_type": "code",
   "execution_count": 29,
   "metadata": {},
   "outputs": [
    {
     "data": {
      "image/png": "[encoded data removed]",
      "text/plain": [
       "<Figure size 432x288 with 1 Axes>"
      ]
     },
     "metadata": {
      "needs_background": "light"
     },
     "output_type": "display_data"
    }
   ],
   "source": [
    "history_dict = history.history\n",
    "\n",
    "loss = history_dict['loss']\n",
    "val_loss = history_dict['val_loss']\n",
    "\n",
    "epoch = range(1,len(loss)+1)\n",
    "\n",
    "plt.plot(epoch,loss,'bo',label='Training Loss')\n",
    "plt.plot(epoch,val_loss,'b',label='Validation Loss')\n",
    "plt.title('Training and Validation Loss Visualization')\n",
    "\n",
    "plt.xlabel('Epoch')\n",
    "plt.ylabel('Loss')\n",
    "plt.legend()\n",
    "\n",
    "plt.show()"
   ]
  },
  {
   "cell_type": "markdown",
   "metadata": {},
   "source": [
    "**LSTM + Dropout**    \n",
    "\n",
    "위에서 Network의 성능 향상을 위하여 적용시킬 기법 3가지 중에서 **1) 순환 드롭아웃(recurrenet dropout): 순환 층에서 과대적합을 방지하기 위해 케라스에 내장되어 있는 드롭아웃**을 적용한다.  \n",
    "Dropout을 활용하여 Overfitting을 방지할 효과를 기대할 수 있다.  \n",
    "\n",
    "LSTM Model에서는 Dropout에 대한 2가지 Parameter를 가지고 있다.\n",
    "- dropout: 입력에 대한 드롭아웃 비율을 정하는 부동 소수값\n",
    "- recurrnet_dropout: 순환 상태의 드롭아웃 비율을 정한다.\n",
    "\n",
    "**또한 RNN Network의 종류들은 TimeStep에 상관없이 동일한 마스크를 모든 TimeStep에 적용해야지 Backpropagation에서 적절한 Loss가 전파될 것이다.**  \n",
    "만약 Dropout이 다르다면 하나의 가중치를 공통으로 공유하는 RNN Network의 구조에서 Backpropagation이 잘 적용 안될 것을 예상할 수 있다.  \n",
    "또한 실제로 Overfitting이 해소되었는지 확인하기 위해서 위의 GRU Model보다 Epoch의 수를 늘렸다.  "
   ]
  },
  {
   "cell_type": "code",
   "execution_count": 30,
   "metadata": {
    "scrolled": true
   },
   "outputs": [
    {
     "name": "stdout",
     "output_type": "stream",
     "text": [
      "Epoch 1/40\n",
      "500/500 [==============================] - 40s 80ms/step - loss: 0.2838 - val_loss: 0.2303\n",
      "Epoch 2/40\n",
      "500/500 [==============================] - 39s 79ms/step - loss: 0.2470 - val_loss: 0.2115\n",
      "Epoch 3/40\n",
      "500/500 [==============================] - 40s 80ms/step - loss: 0.2310 - val_loss: 0.1869\n",
      "Epoch 4/40\n",
      "500/500 [==============================] - 40s 79ms/step - loss: 0.2184 - val_loss: 0.2000\n",
      "Epoch 5/40\n",
      "500/500 [==============================] - 40s 79ms/step - loss: 0.2057 - val_loss: 0.2102\n",
      "Epoch 6/40\n",
      "500/500 [==============================] - 40s 79ms/step - loss: 0.1961 - val_loss: 0.1910\n",
      "Epoch 7/40\n",
      "500/500 [==============================] - 41s 81ms/step - loss: 0.1911 - val_loss: 0.2029\n",
      "Epoch 8/40\n",
      "500/500 [==============================] - 40s 80ms/step - loss: 0.1858 - val_loss: 0.1980\n",
      "Epoch 9/40\n",
      "500/500 [==============================] - 41s 81ms/step - loss: 0.1807 - val_loss: 0.2014\n",
      "Epoch 10/40\n",
      "500/500 [==============================] - 41s 81ms/step - loss: 0.1767 - val_loss: 0.1719\n",
      "Epoch 11/40\n",
      "500/500 [==============================] - 41s 82ms/step - loss: 0.1731 - val_loss: 0.1989\n",
      "Epoch 12/40\n",
      "500/500 [==============================] - 41s 82ms/step - loss: 0.1692 - val_loss: 0.1415\n",
      "Epoch 13/40\n",
      "500/500 [==============================] - 42s 84ms/step - loss: 0.1661 - val_loss: 0.1514\n",
      "Epoch 14/40\n",
      "500/500 [==============================] - 41s 81ms/step - loss: 0.1644 - val_loss: 0.1533\n",
      "Epoch 15/40\n",
      "500/500 [==============================] - 41s 82ms/step - loss: 0.1616 - val_loss: 0.1507\n",
      "Epoch 16/40\n",
      "500/500 [==============================] - 41s 82ms/step - loss: 0.1597 - val_loss: 0.1754\n",
      "Epoch 17/40\n",
      "500/500 [==============================] - 41s 82ms/step - loss: 0.1576 - val_loss: 0.1660\n",
      "Epoch 18/40\n",
      "500/500 [==============================] - 41s 82ms/step - loss: 0.1556 - val_loss: 0.1640\n",
      "Epoch 19/40\n",
      "500/500 [==============================] - 41s 83ms/step - loss: 0.1548 - val_loss: 0.1714\n",
      "Epoch 20/40\n",
      "500/500 [==============================] - 41s 83ms/step - loss: 0.1534 - val_loss: 0.1634\n",
      "Epoch 21/40\n",
      "500/500 [==============================] - 41s 83ms/step - loss: 0.1536 - val_loss: 0.1633\n",
      "Epoch 22/40\n",
      "500/500 [==============================] - 41s 83ms/step - loss: 0.1511 - val_loss: 0.1492\n",
      "Epoch 23/40\n",
      "500/500 [==============================] - 41s 82ms/step - loss: 0.1521 - val_loss: 0.1759\n",
      "Epoch 24/40\n",
      "500/500 [==============================] - 43s 85ms/step - loss: 0.1482 - val_loss: 0.1676\n",
      "Epoch 25/40\n",
      "500/500 [==============================] - 43s 86ms/step - loss: 0.1474 - val_loss: 0.1787\n",
      "Epoch 26/40\n",
      "500/500 [==============================] - 43s 86ms/step - loss: 0.1466 - val_loss: 0.2018\n",
      "Epoch 27/40\n",
      "500/500 [==============================] - 43s 86ms/step - loss: 0.1460 - val_loss: 0.1480\n",
      "Epoch 28/40\n",
      "500/500 [==============================] - 42s 85ms/step - loss: 0.1456 - val_loss: 0.1603\n",
      "Epoch 29/40\n",
      "500/500 [==============================] - 41s 83ms/step - loss: 0.1448 - val_loss: 0.1591\n",
      "Epoch 30/40\n",
      "500/500 [==============================] - 41s 83ms/step - loss: 0.1436 - val_loss: 0.2100\n",
      "Epoch 31/40\n",
      "500/500 [==============================] - 42s 85ms/step - loss: 0.1424 - val_loss: 0.1683\n",
      "Epoch 32/40\n",
      "500/500 [==============================] - 42s 83ms/step - loss: 0.1425 - val_loss: 0.1912\n",
      "Epoch 33/40\n",
      "500/500 [==============================] - 43s 86ms/step - loss: 0.1409 - val_loss: 0.1804\n",
      "Epoch 34/40\n",
      "500/500 [==============================] - 42s 84ms/step - loss: 0.1398 - val_loss: 0.2314\n",
      "Epoch 35/40\n",
      "500/500 [==============================] - 43s 86ms/step - loss: 0.1409 - val_loss: 0.2064\n",
      "Epoch 36/40\n",
      "500/500 [==============================] - 42s 85ms/step - loss: 0.1401 - val_loss: 0.1821\n",
      "Epoch 37/40\n",
      "500/500 [==============================] - 42s 84ms/step - loss: 0.1386 - val_loss: 0.2114\n",
      "Epoch 38/40\n",
      "500/500 [==============================] - 42s 84ms/step - loss: 0.1391 - val_loss: 0.1941\n",
      "Epoch 39/40\n",
      "500/500 [==============================] - 43s 85ms/step - loss: 0.1393 - val_loss: 0.2299\n",
      "Epoch 40/40\n",
      "500/500 [==============================] - 41s 82ms/step - loss: 0.1378 - val_loss: 0.2181\n"
     ]
    }
   ],
   "source": [
    "model = Sequential()\n",
    "model.add(layers.LSTM(32,\n",
    "                     dropout=0.2,\n",
    "                     recurrent_dropout=0.2,\n",
    "                     input_shape=(None, float_data.shape[-1])))\n",
    "\n",
    "model.add(layers.Dense(1))\n",
    "\n",
    "model.compile(optimizer=RMSprop(), loss='mae')\n",
    "\n",
    "history = model.fit_generator(train_gen,\n",
    "                              steps_per_epoch=500,\n",
    "                              epochs=40,\n",
    "                              validation_data=val_gen,\n",
    "                              validation_steps=val_steps)"
   ]
  },
  {
   "cell_type": "markdown",
   "metadata": {},
   "source": [
    "**Model 결과 시각화**  \n",
    "Overfitting이 어느정도 해결되었으나 결국에는 20정도를 넘어가게 되면 다시 Overfitting이 발생되는 것을 확인할 수 있다."
   ]
  },
  {
   "cell_type": "code",
   "execution_count": 31,
   "metadata": {},
   "outputs": [
    {
     "data": {
      "image/png": "[encoded data removed]",
      "text/plain": [
       "<Figure size 432x288 with 1 Axes>"
      ]
     },
     "metadata": {
      "needs_background": "light"
     },
     "output_type": "display_data"
    }
   ],
   "source": [
    "history_dict = history.history\n",
    "\n",
    "loss = history_dict['loss']\n",
    "val_loss = history_dict['val_loss']\n",
    "\n",
    "epoch = range(1,len(loss)+1)\n",
    "\n",
    "plt.plot(epoch,loss,'bo',label='Training Loss')\n",
    "plt.plot(epoch,val_loss,'b',label='Validation Loss')\n",
    "plt.title('Training and Validation Loss Visualization')\n",
    "\n",
    "plt.xlabel('Epoch')\n",
    "plt.ylabel('Loss')\n",
    "plt.legend()\n",
    "\n",
    "plt.show()"
   ]
  },
  {
   "cell_type": "markdown",
   "metadata": {},
   "source": [
    "**LSTM + Dropout + 스태킹 순환 층(stacking recurrnet layer)**  \n",
    "위의 결과에서 Overfitting이 발생되지 않는 것을 확인하였으므로 Model의 성능을 향상시키기 위한 과정이다.  \n",
    "위에서 스태킹 순환 층(stacking recurrnet layer)을 통하여 하나의 Domain에 대한 Model이 아닌 여러 Domain에 대한 Model을 구축하기 위하여 LSTM을 여러 층으로 쌓아서 해결한다고 설명하였다.  \n",
    "이번에 구축해볼 Model은 LSTM를 2개의 층으로 구축하여 결과를 확인한다.  \n",
    "**중요한 것은 LSTM와 같은 RNN Network는 특정 Domain에 대한 연속성을 가져야 하므로 <code>return_sequences = True</code>로 설정하여 1번째 LSTM는 Sequence형태로 Output을 2번째 LSTM의 Input으로 전달하여야 한다.**"
   ]
  },
  {
   "cell_type": "code",
   "execution_count": 56,
   "metadata": {},
   "outputs": [
    {
     "name": "stdout",
     "output_type": "stream",
     "text": [
      "Epoch 1/20\n",
      "500/500 [==============================] - 121s 241ms/step - loss: 0.3018 - val_loss: 0.2177\n",
      "Epoch 2/20\n",
      "500/500 [==============================] - 118s 236ms/step - loss: 0.2597 - val_loss: 0.2605\n",
      "Epoch 3/20\n",
      "500/500 [==============================] - 116s 232ms/step - loss: 0.2387 - val_loss: 0.2739\n",
      "Epoch 4/20\n",
      "500/500 [==============================] - 116s 232ms/step - loss: 0.2271 - val_loss: 0.3027\n",
      "Epoch 5/20\n",
      "500/500 [==============================] - 114s 228ms/step - loss: 0.2116 - val_loss: 0.2650\n",
      "Epoch 6/20\n",
      "500/500 [==============================] - 115s 229ms/step - loss: 0.2015 - val_loss: 0.3017\n",
      "Epoch 7/20\n",
      "500/500 [==============================] - 118s 237ms/step - loss: 0.1939 - val_loss: 0.3621\n",
      "Epoch 8/20\n",
      "500/500 [==============================] - 116s 233ms/step - loss: 0.1871 - val_loss: 0.3341\n",
      "Epoch 9/20\n",
      "500/500 [==============================] - 119s 237ms/step - loss: 0.1810 - val_loss: 0.4428\n",
      "Epoch 10/20\n",
      "500/500 [==============================] - 118s 236ms/step - loss: 0.1745 - val_loss: 0.3882\n",
      "Epoch 11/20\n",
      "500/500 [==============================] - 117s 233ms/step - loss: 0.1701 - val_loss: 0.3836\n",
      "Epoch 12/20\n",
      "500/500 [==============================] - 114s 228ms/step - loss: 0.1647 - val_loss: 0.5042\n",
      "Epoch 13/20\n",
      "500/500 [==============================] - 114s 228ms/step - loss: 0.1608 - val_loss: 0.4537\n",
      "Epoch 14/20\n",
      "500/500 [==============================] - 112s 223ms/step - loss: 0.1579 - val_loss: 0.5629\n",
      "Epoch 15/20\n",
      "500/500 [==============================] - 112s 224ms/step - loss: 0.1543 - val_loss: 0.4818\n",
      "Epoch 16/20\n",
      "500/500 [==============================] - 116s 232ms/step - loss: 0.1506 - val_loss: 0.5392\n",
      "Epoch 17/20\n",
      "500/500 [==============================] - 114s 228ms/step - loss: 0.1489 - val_loss: 0.5589\n",
      "Epoch 18/20\n",
      "500/500 [==============================] - 115s 230ms/step - loss: 0.1463 - val_loss: 0.5455\n",
      "Epoch 19/20\n",
      "500/500 [==============================] - 113s 226ms/step - loss: 0.1436 - val_loss: 0.5504\n",
      "Epoch 20/20\n",
      "500/500 [==============================] - 118s 236ms/step - loss: 0.1409 - val_loss: 0.5908\n"
     ]
    }
   ],
   "source": [
    "model = Sequential()\n",
    "model.add(layers.LSTM(32,\n",
    "                     dropout=0.2,recurrent_dropout=0.2,\n",
    "                     return_sequences=True,\n",
    "                     input_shape=(None, float_data.shape[-1])))\n",
    "\n",
    "model.add(layers.LSTM(32, dropout=0.2,recurrent_dropout=0.2))\n",
    "\n",
    "model.add(layers.Dense(1))\n",
    "model.compile(optimizer='rmsprop',loss='mae')\n",
    "\n",
    "history = model.fit_generator(train_gen, steps_per_epoch=500,epochs=20,\n",
    "                             validation_data=val_gen,validation_steps=val_steps)"
   ]
  },
  {
   "cell_type": "markdown",
   "metadata": {},
   "source": [
    "**Model 결과 시각화**  \n",
    "기존보다 Overfitting이 더 심해진 것을 알 수 있다. 간단한 Model로서 표현 가능한데 계속하여 더 깊게 쌓을려다 보니 생긴 문제점으로 예상된다."
   ]
  },
  {
   "cell_type": "code",
   "execution_count": 57,
   "metadata": {},
   "outputs": [
    {
     "data": {
      "image/png": "[encoded data removed]",
      "text/plain": [
       "<Figure size 432x288 with 1 Axes>"
      ]
     },
     "metadata": {
      "needs_background": "light"
     },
     "output_type": "display_data"
    }
   ],
   "source": [
    "history_dict = history.history\n",
    "\n",
    "loss = history_dict['loss']\n",
    "val_loss = history_dict['val_loss']\n",
    "\n",
    "epoch = range(1,len(loss)+1)\n",
    "\n",
    "plt.plot(epoch,loss,'bo',label='Training Loss')\n",
    "plt.plot(epoch,val_loss,'b',label='Validation Loss')\n",
    "plt.title('Training and Validation Loss Visualization')\n",
    "\n",
    "plt.xlabel('Epoch')\n",
    "plt.ylabel('Loss')\n",
    "plt.legend()\n",
    "\n",
    "plt.show()"
   ]
  },
  {
   "cell_type": "markdown",
   "metadata": {},
   "source": [
    "**LSTM + Dropout + 양방향 순환 층(bidirectional recurrent layer)**  \n",
    "성능이 좋지 않았던 스태킹 순환 층(Overfitting이 더 심하게 발생)을 제외하고 Keras가 지원하는 <code>layers.Bidirectional()</code>를 활용하여 양방향 순환층을 형성하고 결과를 확인한다."
   ]
  },
  {
   "cell_type": "code",
   "execution_count": 67,
   "metadata": {},
   "outputs": [
    {
     "name": "stdout",
     "output_type": "stream",
     "text": [
      "Epoch 1/20\n",
      "500/500 [==============================] - 51s 103ms/step - loss: 0.2628 - val_loss: 0.4645\n",
      "Epoch 2/20\n",
      "500/500 [==============================] - 54s 108ms/step - loss: 0.2256 - val_loss: 0.4957\n",
      "Epoch 3/20\n",
      "500/500 [==============================] - 55s 109ms/step - loss: 0.2078 - val_loss: 0.4924\n",
      "Epoch 4/20\n",
      "500/500 [==============================] - 52s 105ms/step - loss: 0.1968 - val_loss: 0.5142\n",
      "Epoch 5/20\n",
      "500/500 [==============================] - 52s 104ms/step - loss: 0.1853 - val_loss: 0.5654\n",
      "Epoch 6/20\n",
      "500/500 [==============================] - 52s 104ms/step - loss: 0.1783 - val_loss: 0.4712\n",
      "Epoch 7/20\n",
      "500/500 [==============================] - 52s 105ms/step - loss: 0.1697 - val_loss: 0.5561\n",
      "Epoch 8/20\n",
      "500/500 [==============================] - 52s 105ms/step - loss: 0.1642 - val_loss: 0.5305\n",
      "Epoch 9/20\n",
      "500/500 [==============================] - 52s 104ms/step - loss: 0.1589 - val_loss: 0.5554\n",
      "Epoch 10/20\n",
      "500/500 [==============================] - 51s 101ms/step - loss: 0.1556 - val_loss: 0.5435\n",
      "Epoch 11/20\n",
      "500/500 [==============================] - 51s 102ms/step - loss: 0.1502 - val_loss: 0.5500\n",
      "Epoch 12/20\n",
      "500/500 [==============================] - 51s 102ms/step - loss: 0.1470 - val_loss: 0.5070\n",
      "Epoch 13/20\n",
      "500/500 [==============================] - 51s 102ms/step - loss: 0.1440 - val_loss: 0.4830\n",
      "Epoch 14/20\n",
      "500/500 [==============================] - 51s 102ms/step - loss: 0.1411 - val_loss: 0.4410\n",
      "Epoch 15/20\n",
      "500/500 [==============================] - 51s 102ms/step - loss: 0.1394 - val_loss: 0.4752\n",
      "Epoch 16/20\n",
      "500/500 [==============================] - 51s 102ms/step - loss: 0.1363 - val_loss: 0.5099\n",
      "Epoch 17/20\n",
      "500/500 [==============================] - 51s 102ms/step - loss: 0.1338 - val_loss: 0.4542\n",
      "Epoch 18/20\n",
      "500/500 [==============================] - 51s 102ms/step - loss: 0.1323 - val_loss: 0.4831\n",
      "Epoch 19/20\n",
      "500/500 [==============================] - 51s 102ms/step - loss: 0.1306 - val_loss: 0.4834\n",
      "Epoch 20/20\n",
      "500/500 [==============================] - 51s 103ms/step - loss: 0.1292 - val_loss: 0.4860\n"
     ]
    }
   ],
   "source": [
    "model = Sequential()\n",
    "model.add(layers.Bidirectional(\n",
    "    layers.LSTM(32, dropout=0.2,recurrent_dropout=0.2,), \n",
    "    input_shape=(None, float_data.shape[-1])))\n",
    "\n",
    "model.add(layers.Dense(1))\n",
    "model.compile(optimizer='rmsprop',loss='mae')\n",
    "\n",
    "history = model.fit_generator(train_gen, steps_per_epoch=500,epochs=20,\n",
    "                             validation_data=val_gen,validation_steps=val_steps)"
   ]
  },
  {
   "cell_type": "markdown",
   "metadata": {},
   "source": [
    "**Model 결과 시각화**  \n",
    "결과적으로 Model의 성능이 그냥 LSTM + Dropout을 사용했을 때 보다 좀 더 안좋아진 것을 확인할 수 있다.  \n",
    "왜 이런지 생각해보면 다음과 같다.  \n",
    "기본적으로 RNN은 하나의 가중치를 공유함으로써 인하여 Input Data의 Vector가 길어짐에 따라 Time Step이 길어지게 되고 결국에는 Long Term Dependency가 발생하게 된다.  \n",
    "\n",
    "이러한 해결방안으로 LSTM을 사용한다고 생각하면 Forget Gate + Input Gate로서 어느정도 해결하였다.  \n",
    "**하지만 결국에는 σ(시그모이드)를 곱하게 되어서 0 ~ 1사이의 값을 가지게 되므로 계속해서 TimeStep이 길어지게 되면 Long Term Dependency가 발생하게 된다.**  \n",
    "이것을 해결하기 위하여 Input Data를 거꾸로 해서 넣는 다는 것 이다.  \n",
    "\n",
    "**하지만 중요한 것은 이러한 양방향 순환 층(bidirectional recurrnet layer)는 더 좋은 성능을 보여주는 Dataset이 있고 그렇지 않은 Dataset이 있다.**  \n",
    "\n",
    "먼저 안 좋은 성능을 보여주는 Dataset부터 살펴보면 위의 날씨예측같은 Data이다.  \n",
    "RNN Model을 마지막에 들어오는 Time Step의 Input Value가 가장 영향을 많이 미칠 수 있다.  \n",
    "위의 날씨예측 같은 Data를 양방향으로 넣는다고 생각해보자.  \n",
    "1900 ~ 2000년 순으로 넣어서 2000년의 Data의 영향을 더 많이 받는 Model이 2001년의 Data를 더 잘 예측할 것인가?  \n",
    "2000 ~ 1900년 순으로 넣어서 1900년의 Data의 영향을 더 많이 받는 Model이 2001년의 Data를 더 잘 예측할 것인가?  \n",
    "답은 간단히 생각해도 전자 일 것이다.  \n",
    "\n",
    "그렇다면 좋은 성능을 보여주는 Dataset에 대하여 생각해보자.  \n",
    "위에서도 예시를 들었지만 영어 문장을 생각해 보자.  \n",
    "1 형식: 주어 + 동사  \n",
    "2 형식: 주어 + 동사 + 보어  \n",
    "3 형식: 주어 + 동사 + 목적어  \n",
    "4 형식: 주어 + 동사 + 간접목적어 + 직접목적어  \n",
    "5 형식: 주어 + 동사 + 목적어 + 목적격 보어  \n",
    "\n",
    "이다.  \n",
    "만약 Input의 Data를 거꾸로 하게 넣게 되면은 문장의 요소에서 제일 중요하다고 할 수 있는 주어와 동사에 영향을 더 많이 받는 Model을 만들 수 있다.  \n",
    "이렇게 되면 Model의 성능이 향상될 것이라고 생각할 수 있다.  \n",
    "Model을 시각화해보면 다음과 같다.  \n",
    "<img src=\"https://s3.amazonaws.com/book.keras.io/img/ch6/bidirectional_rnn.png\"/><br>\n",
    "사진 출처: <a href=\"https://s3.amazonaws.com\">amazon</a>"
   ]
  },
  {
   "cell_type": "code",
   "execution_count": 68,
   "metadata": {},
   "outputs": [
    {
     "data": {
      "image/png": "[encoded data removed]",
      "text/plain": [
       "<Figure size 432x288 with 1 Axes>"
      ]
     },
     "metadata": {
      "needs_background": "light"
     },
     "output_type": "display_data"
    }
   ],
   "source": [
    "history_dict = history.history\n",
    "\n",
    "loss = history_dict['loss']\n",
    "val_loss = history_dict['val_loss']\n",
    "\n",
    "epoch = range(1,len(loss)+1)\n",
    "\n",
    "plt.plot(epoch,loss,'bo',label='Training Loss')\n",
    "plt.plot(epoch,val_loss,'b',label='Validation Loss')\n",
    "plt.title('Training and Validation Loss Visualization')\n",
    "\n",
    "plt.xlabel('Epoch')\n",
    "plt.ylabel('Loss')\n",
    "plt.legend()\n",
    "\n",
    "plt.show()"
   ]
  },
  {
   "cell_type": "markdown",
   "metadata": {},
   "source": [
    "### CNN 1D를 활용하여 시퀀스 데이터 처리\n",
    "CNN에서는 대부분 Image처리는 Convolution2D를 사용하게 되고, ROS와 같이 Cloud Point를 처리할 때는 Convolution3D를 사용하게 된다.  \n",
    "\n",
    "Convolution1D를 사용하게 되면 Sparse한 Data를 Dense하게 나타낼 수 있다.  \n",
    "기존의 Convolution2D를 생각하게 되면 Kernel을 w x h 로서 나타내었다.  \n",
    "즉, Image의 가로 세로 범위안에 들어오는 Pixel에 대하여 Feature를 뽑겠다는 말 이다.  \n",
    "**그렇다면 Convolution1D를 사용하게 되면 특정 1개의 Domain에 대한 Feature를 뽑아 낼 수 있다는 것 이다.**  \n",
    "\n",
    "Sequence 데이터에서 RNN Network를 사용한 이유는 특정한 Time Domain에 맞춰 연속적인 Data를 잘 처리할 수 있는 Network구조이기 때문이다.  \n",
    "\n",
    "그렇다면 Convolution1D를 사용하고 특정한 Domain을 Time Domain에 맞추게 된다면 어느정도의 결과를 얻을 수 있다.  \n",
    "예를들어 보면 만약, Data의 Input이 하루 기준으로 들어오게 되고 Convolution1D의 Filter Size의 크기가 7이라면 1주일의 기준으로 월 ~ 일 까지의 Factor 들에 대하여 가중치를 부여할 수 있다.  \n",
    "**따라서 RNN Network보다 효율성은 떨어지게 되어도 짧은 시간안에 결과를 도출할 수 있는 Model을 만들 수 있을 것이라 생각할 수 있다.**  \n",
    "\n",
    "**데이터 전처리**  \n",
    "먼저 imdb Dataset을 불러온다."
   ]
  },
  {
   "cell_type": "code",
   "execution_count": 70,
   "metadata": {},
   "outputs": [
    {
     "name": "stdout",
     "output_type": "stream",
     "text": [
      "데이터 로드...\n",
      "25000 훈련 시퀀스\n",
      "25000 테스트 시퀀스\n",
      "시퀀스 패딩 (samples x time)\n",
      "x_train 크기: (25000, 500)\n",
      "x_test 크기: (25000, 500)\n"
     ]
    }
   ],
   "source": [
    "max_features = 10000\n",
    "max_len = 500\n",
    "\n",
    "print('데이터 로드...')\n",
    "(x_train, y_train), (x_test, y_test) = imdb.load_data(num_words=max_features)\n",
    "print(len(x_train), '훈련 시퀀스')\n",
    "print(len(x_test), '테스트 시퀀스')\n",
    "\n",
    "print('시퀀스 패딩 (samples x time)')\n",
    "x_train = pad_sequences(x_train, maxlen=max_len)\n",
    "x_test = pad_sequences(x_test, maxlen=max_len)\n",
    "print('x_train 크기:', x_train.shape)\n",
    "print('x_test 크기:', x_test.shape)"
   ]
  },
  {
   "cell_type": "markdown",
   "metadata": {},
   "source": [
    "**Convolution 1D Network**  \n",
    "Convolution1D를 사용하여 Network를 구성한다.  \n",
    "Convolution에 관한 Keras 공식 문서는 링크를 참조하자. <a href=\"https://keras.io/layers/convolutional/\"></a>  \n",
    "중요한 점은 <code>layers.Faltten()</code>층을 없애고 <code>layers.GlobalMaxPooling1D()</code>을 통하여 나타내었다."
   ]
  },
  {
   "cell_type": "code",
   "execution_count": 71,
   "metadata": {},
   "outputs": [
    {
     "name": "stdout",
     "output_type": "stream",
     "text": [
      "WARNING:tensorflow:From /usr/local/lib/python3.6/dist-packages/keras/backend/tensorflow_backend.py:4070: The name tf.nn.max_pool is deprecated. Please use tf.nn.max_pool2d instead.\n",
      "\n",
      "Model: \"sequential_3\"\n",
      "_________________________________________________________________\n",
      "Layer (type)                 Output Shape              Param #   \n",
      "=================================================================\n",
      "embedding_1 (Embedding)      (None, 500, 128)          1280000   \n",
      "_________________________________________________________________\n",
      "conv1d_1 (Conv1D)            (None, 494, 32)           28704     \n",
      "_________________________________________________________________\n",
      "max_pooling1d_1 (MaxPooling1 (None, 98, 32)            0         \n",
      "_________________________________________________________________\n",
      "conv1d_2 (Conv1D)            (None, 92, 32)            7200      \n",
      "_________________________________________________________________\n",
      "global_max_pooling1d_1 (Glob (None, 32)                0         \n",
      "_________________________________________________________________\n",
      "dense_3 (Dense)              (None, 1)                 33        \n",
      "=================================================================\n",
      "Total params: 1,315,937\n",
      "Trainable params: 1,315,937\n",
      "Non-trainable params: 0\n",
      "_________________________________________________________________\n",
      "Train on 20000 samples, validate on 5000 samples\n",
      "Epoch 1/10\n",
      "20000/20000 [==============================] - 19s 929us/step - loss: 1.2850 - acc: 0.5029 - val_loss: 0.6904 - val_acc: 0.5388\n",
      "Epoch 2/10\n",
      "20000/20000 [==============================] - 18s 902us/step - loss: 0.6797 - acc: 0.6149 - val_loss: 0.6747 - val_acc: 0.6230\n",
      "Epoch 3/10\n",
      "20000/20000 [==============================] - 19s 932us/step - loss: 0.6487 - acc: 0.7351 - val_loss: 0.6423 - val_acc: 0.6858\n",
      "Epoch 4/10\n",
      "20000/20000 [==============================] - 21s 1ms/step - loss: 0.5895 - acc: 0.7839 - val_loss: 0.5645 - val_acc: 0.7712\n",
      "Epoch 5/10\n",
      "20000/20000 [==============================] - 19s 957us/step - loss: 0.4788 - acc: 0.8264 - val_loss: 0.4490 - val_acc: 0.8200\n",
      "Epoch 6/10\n",
      "20000/20000 [==============================] - 20s 991us/step - loss: 0.3828 - acc: 0.8590 - val_loss: 0.4130 - val_acc: 0.8404\n",
      "Epoch 7/10\n",
      "20000/20000 [==============================] - 20s 1ms/step - loss: 0.3330 - acc: 0.8702 - val_loss: 0.4176 - val_acc: 0.8370\n",
      "Epoch 8/10\n",
      "20000/20000 [==============================] - 20s 994us/step - loss: 0.2970 - acc: 0.8649 - val_loss: 0.4310 - val_acc: 0.8172\n",
      "Epoch 9/10\n",
      "20000/20000 [==============================] - 20s 1ms/step - loss: 0.2691 - acc: 0.8496 - val_loss: 0.4164 - val_acc: 0.8122\n",
      "Epoch 10/10\n",
      "20000/20000 [==============================] - 20s 986us/step - loss: 0.2454 - acc: 0.8323 - val_loss: 0.5061 - val_acc: 0.7654\n"
     ]
    }
   ],
   "source": [
    "model = Sequential()\n",
    "model.add(layers.Embedding(max_features, 128, input_length=max_len))\n",
    "model.add(layers.Conv1D(32, 7, activation='relu'))\n",
    "model.add(layers.MaxPooling1D(5))\n",
    "model.add(layers.Conv1D(32, 7, activation='relu'))\n",
    "model.add(layers.GlobalMaxPooling1D())\n",
    "model.add(layers.Dense(1))\n",
    "\n",
    "model.summary()\n",
    "\n",
    "model.compile(optimizer=RMSprop(lr=1e-4),\n",
    "              loss='binary_crossentropy',\n",
    "              metrics=['acc'])\n",
    "history = model.fit(x_train, y_train,\n",
    "                    epochs=10,\n",
    "                    batch_size=128,\n",
    "                    validation_split=0.2)"
   ]
  },
  {
   "cell_type": "markdown",
   "metadata": {},
   "source": [
    "**결과 시각화**  \n",
    "RNN Network보다 Accuracy는 떨어지게 되나, 시간은 훨씬 단축되는 것을 확인할 수 있다.  \n",
    "Model의 대략적인 방향을 잡기위한 Parameter선택이나, 단어 수준의 감성 분류 작업같은 작은 Network구조에서 빠르게 결과를 확인하기 위하여 많이 사용된다."
   ]
  },
  {
   "cell_type": "code",
   "execution_count": 72,
   "metadata": {},
   "outputs": [
    {
     "data": {
      "image/png": "[encoded data removed]",
      "text/plain": [
       "<Figure size 432x288 with 1 Axes>"
      ]
     },
     "metadata": {
      "needs_background": "light"
     },
     "output_type": "display_data"
    },
    {
     "data": {
      "image/png": "[encoded data removed]",
      "text/plain": [
       "<Figure size 432x288 with 1 Axes>"
      ]
     },
     "metadata": {
      "needs_background": "light"
     },
     "output_type": "display_data"
    }
   ],
   "source": [
    "history_dict = history.history\n",
    "\n",
    "acc = history_dict['acc']\n",
    "val_acc = history_dict['val_acc']\n",
    "\n",
    "loss = history_dict['loss']\n",
    "val_loss = history_dict['val_loss']\n",
    "\n",
    "epoch = range(1,len(loss)+1)\n",
    "\n",
    "plt.plot(epoch,acc,'bo',label='Training Accuracy')\n",
    "plt.plot(epoch,val_acc,'b',label='Validation Accuracy')\n",
    "plt.title('Training and Validation Accuracy Visualization')\n",
    "plt.xlabel('Epoch')\n",
    "plt.ylabel('Accuracy')\n",
    "plt.legend()\n",
    "plt.figure()\n",
    "\n",
    "plt.plot(epoch,loss,'bo',label='Training Loss')\n",
    "plt.plot(epoch,val_loss,'b',label='Validation Loss')\n",
    "plt.title('Training and Validation Loss Visualization')\n",
    "\n",
    "plt.xlabel('Epoch')\n",
    "plt.ylabel('Loss')\n",
    "plt.legend()\n",
    "\n",
    "plt.show()"
   ]
  },
  {
   "cell_type": "markdown",
   "metadata": {},
   "source": [
    "**Convlution1D의 한계점**  \n",
    "위에서도 말하였지만 특정 Domain에 대한 Filter를 씌워서 각각의 가중치를 주는 형식이기 때문에 Sequence Data에 대하여 어느정도 효과는 있을지 몰라도 성능은 보장할 수 없다고 설명하였다.  \n",
    "\n",
    "따라서 Time Step이 매우 중요한 요소였던 날씨 데이터를 가지고 예측하는 것을 Convolution1D로서 구현하고 한계점을 확인해보자."
   ]
  },
  {
   "cell_type": "code",
   "execution_count": 75,
   "metadata": {},
   "outputs": [
    {
     "name": "stdout",
     "output_type": "stream",
     "text": [
      "Epoch 1/20\n",
      "500/500 [==============================] - 7s 13ms/step - loss: 0.2963 - val_loss: 0.2225\n",
      "Epoch 2/20\n",
      "500/500 [==============================] - 7s 13ms/step - loss: 0.2348 - val_loss: 0.1972\n",
      "Epoch 3/20\n",
      "500/500 [==============================] - 7s 14ms/step - loss: 0.2062 - val_loss: 0.1484\n",
      "Epoch 4/20\n",
      "500/500 [==============================] - 7s 14ms/step - loss: 0.1870 - val_loss: 0.2620\n",
      "Epoch 5/20\n",
      "500/500 [==============================] - 7s 14ms/step - loss: 0.1734 - val_loss: 0.1803\n",
      "Epoch 6/20\n",
      "500/500 [==============================] - 7s 15ms/step - loss: 0.1613 - val_loss: 0.1643\n",
      "Epoch 7/20\n",
      "500/500 [==============================] - 7s 14ms/step - loss: 0.1538 - val_loss: 0.2512\n",
      "Epoch 8/20\n",
      "500/500 [==============================] - 7s 14ms/step - loss: 0.1462 - val_loss: 0.2352\n",
      "Epoch 9/20\n",
      "500/500 [==============================] - 7s 14ms/step - loss: 0.1389 - val_loss: 0.2509\n",
      "Epoch 10/20\n",
      "500/500 [==============================] - 7s 13ms/step - loss: 0.1342 - val_loss: 0.4136\n",
      "Epoch 11/20\n",
      "500/500 [==============================] - 7s 14ms/step - loss: 0.1294 - val_loss: 0.3317\n",
      "Epoch 12/20\n",
      "500/500 [==============================] - 7s 14ms/step - loss: 0.1250 - val_loss: 0.3275\n",
      "Epoch 13/20\n",
      "500/500 [==============================] - 7s 14ms/step - loss: 0.1223 - val_loss: 0.5646\n",
      "Epoch 14/20\n",
      "500/500 [==============================] - 7s 14ms/step - loss: 0.1196 - val_loss: 0.2662\n",
      "Epoch 15/20\n",
      "500/500 [==============================] - 7s 14ms/step - loss: 0.1172 - val_loss: 0.3916\n",
      "Epoch 16/20\n",
      "500/500 [==============================] - 7s 14ms/step - loss: 0.1143 - val_loss: 0.3171\n",
      "Epoch 17/20\n",
      "500/500 [==============================] - 7s 14ms/step - loss: 0.1124 - val_loss: 0.4733\n",
      "Epoch 18/20\n",
      "500/500 [==============================] - 7s 14ms/step - loss: 0.1101 - val_loss: 0.2090\n",
      "Epoch 19/20\n",
      "500/500 [==============================] - 7s 15ms/step - loss: 0.1082 - val_loss: 0.3752\n",
      "Epoch 20/20\n",
      "500/500 [==============================] - 7s 14ms/step - loss: 0.1066 - val_loss: 0.3351\n"
     ]
    }
   ],
   "source": [
    "model = Sequential()\n",
    "model.add(layers.Conv1D(32,5,activation='relu',input_shape=(None,float_data.shape[-1])))\n",
    "model.add(layers.MaxPooling1D(3))\n",
    "model.add(layers.Conv1D(32,5,activation='relu'))\n",
    "model.add(layers.MaxPooling1D(3))\n",
    "model.add(layers.Conv1D(32,5,activation='relu'))\n",
    "model.add(layers.GlobalMaxPooling1D())\n",
    "model.add(layers.Dense(1))\n",
    "\n",
    "model.compile(optimizer=RMSprop(), loss='mae')\n",
    "\n",
    "history = model.fit_generator(train_gen,\n",
    "                              steps_per_epoch=500,\n",
    "                              epochs=20,\n",
    "                              validation_data=val_gen,\n",
    "                              validation_steps=val_steps)"
   ]
  },
  {
   "cell_type": "markdown",
   "metadata": {},
   "source": [
    "**결과 확인**  \n",
    "예상대로 LSTM보다 성능이 떨어지는 것을 확인할 수 있다."
   ]
  },
  {
   "cell_type": "code",
   "execution_count": 76,
   "metadata": {},
   "outputs": [
    {
     "data": {
      "image/png": "[encoded data removed]",
      "text/plain": [
       "<Figure size 432x288 with 1 Axes>"
      ]
     },
     "metadata": {
      "needs_background": "light"
     },
     "output_type": "display_data"
    }
   ],
   "source": [
    "history_dict = history.history\n",
    "\n",
    "loss = history_dict['loss']\n",
    "val_loss = history_dict['val_loss']\n",
    "\n",
    "epoch = range(1,len(loss)+1)\n",
    "\n",
    "plt.plot(epoch,loss,'bo',label='Training Loss')\n",
    "plt.plot(epoch,val_loss,'b',label='Validation Loss')\n",
    "plt.title('Training and Validation Loss Visualization')\n",
    "\n",
    "plt.xlabel('Epoch')\n",
    "plt.ylabel('Loss')\n",
    "plt.legend()\n",
    "\n",
    "plt.show()"
   ]
  },
  {
   "cell_type": "markdown",
   "metadata": {},
   "source": [
    "**Convolution1D + RNN**  \n",
    "기존 Convolution1D만은 사용한 Model의 성능은 좋지 않은 것을 확인하였다.  \n",
    "따라서 Convolution1D의 장점을 활용하여 RNN의 전처리 과정으로 사용하여 보자.  \n",
    "기본적으로 Convolution1D뿐만 아니라 Convolution을 사용하는 자체가 특정 Data의 Feature를 뽑아서 Channel의 수는 늘어나도 Data의 Size는 줄어드는 효과가 발생하게 된다.  \n",
    "즉, Convolution1D는 **Sequence의 길이가 긴 Data를 Dense하게 바꾸는데 효과가 있다 라고 생각할 수 있다.**  \n",
    "아래 그림은 이러한 Idea에서 온 Convolution1D + RNN의 구조이다.  \n",
    "<img src=\"https://miro.medium.com/max/266/0*dFnGIGU0PnKLCHGD.jpg\"/><br>\n",
    "사진 참조: <a href=\"https://medium.com/@jon.froiland/convolutional-neural-networks-for-sequence-processing-part-2-bdd3fc88cb10\">medium.com</a><br>  \n",
    "\n",
    "**데이터셋 준비**  \n",
    "먼저 위에서 사용하였던 Data와 같은 날씨 Data를 사용하나 step=6이아닌 3으로서 변경하여 좀 더 Dense한 Dataset을 준비한다."
   ]
  },
  {
   "cell_type": "code",
   "execution_count": 77,
   "metadata": {},
   "outputs": [],
   "source": [
    "lookback=1440\n",
    "batch_size=128\n",
    "step = 3\n",
    "delay = 144\n",
    "\n",
    "train_gen = generator(float_data,lookback=lookback,\n",
    "                     delay=delay,min_index=0,\n",
    "                     max_index=20000,shuffle=True,\n",
    "                     step=step,batch_size=batch_size)\n",
    "\n",
    "val_gen = generator(float_data,lookback=lookback,\n",
    "                     delay=delay,min_index=20001,\n",
    "                     max_index=30000,\n",
    "                     step=step,batch_size=batch_size)\n",
    "\n",
    "test_gen = generator(float_data,lookback=lookback,\n",
    "                     delay=delay,min_index=30001,\n",
    "                     max_index=None,\n",
    "                     step=step,batch_size=batch_size)\n",
    "\n",
    "val_steps = (30000-20001-lookback) // batch_size\n",
    "test_steps = (len(float_data)-30001-lookback) // batch_size"
   ]
  },
  {
   "cell_type": "markdown",
   "metadata": {},
   "source": [
    "**Model 구성**  \n",
    "기존의 LSTM만으로 구성된 Layer + Dropout에 전처리 과정으로 1D Convolution을 사용한다.  "
   ]
  },
  {
   "cell_type": "code",
   "execution_count": 80,
   "metadata": {
    "scrolled": true
   },
   "outputs": [
    {
     "name": "stdout",
     "output_type": "stream",
     "text": [
      "Epoch 1/40\n",
      "500/500 [==============================] - 38s 77ms/step - loss: 0.2614 - val_loss: 0.7438\n",
      "Epoch 2/40\n",
      "500/500 [==============================] - 39s 78ms/step - loss: 0.1971 - val_loss: 0.8443\n",
      "Epoch 3/40\n",
      "500/500 [==============================] - 38s 77ms/step - loss: 0.1665 - val_loss: 0.6840\n",
      "Epoch 4/40\n",
      "500/500 [==============================] - 39s 77ms/step - loss: 0.1466 - val_loss: 0.7789\n",
      "Epoch 5/40\n",
      "500/500 [==============================] - 39s 78ms/step - loss: 0.1324 - val_loss: 0.7002\n",
      "Epoch 6/40\n",
      "500/500 [==============================] - 39s 77ms/step - loss: 0.1215 - val_loss: 0.6558\n",
      "Epoch 7/40\n",
      "500/500 [==============================] - 39s 78ms/step - loss: 0.1130 - val_loss: 0.7502\n",
      "Epoch 8/40\n",
      "500/500 [==============================] - 38s 76ms/step - loss: 0.1073 - val_loss: 0.6091\n",
      "Epoch 9/40\n",
      "500/500 [==============================] - 38s 76ms/step - loss: 0.1012 - val_loss: 0.9022\n",
      "Epoch 10/40\n",
      "500/500 [==============================] - 38s 77ms/step - loss: 0.0972 - val_loss: 0.6253\n",
      "Epoch 11/40\n",
      "500/500 [==============================] - 39s 77ms/step - loss: 0.0931 - val_loss: 0.5801\n",
      "Epoch 12/40\n",
      "500/500 [==============================] - 39s 77ms/step - loss: 0.0901 - val_loss: 0.5805\n",
      "Epoch 13/40\n",
      "500/500 [==============================] - 42s 83ms/step - loss: 0.0875 - val_loss: 0.5999\n",
      "Epoch 14/40\n",
      "500/500 [==============================] - 41s 81ms/step - loss: 0.0845 - val_loss: 0.6462\n",
      "Epoch 15/40\n",
      "500/500 [==============================] - 40s 81ms/step - loss: 0.0822 - val_loss: 0.6426\n",
      "Epoch 16/40\n",
      "500/500 [==============================] - 40s 81ms/step - loss: 0.0803 - val_loss: 0.6722\n",
      "Epoch 17/40\n",
      "500/500 [==============================] - 41s 82ms/step - loss: 0.0787 - val_loss: 0.6085\n",
      "Epoch 18/40\n",
      "500/500 [==============================] - 41s 81ms/step - loss: 0.0767 - val_loss: 0.7450\n",
      "Epoch 19/40\n",
      "500/500 [==============================] - 40s 81ms/step - loss: 0.0756 - val_loss: 0.6316\n",
      "Epoch 20/40\n",
      "500/500 [==============================] - 40s 80ms/step - loss: 0.0745 - val_loss: 0.6128\n",
      "Epoch 21/40\n",
      "500/500 [==============================] - 40s 80ms/step - loss: 0.0735 - val_loss: 0.6012\n",
      "Epoch 22/40\n",
      "500/500 [==============================] - 41s 81ms/step - loss: 0.0721 - val_loss: 0.7213\n",
      "Epoch 23/40\n",
      "500/500 [==============================] - 40s 80ms/step - loss: 0.0715 - val_loss: 0.5573\n",
      "Epoch 24/40\n",
      "500/500 [==============================] - 41s 82ms/step - loss: 0.0701 - val_loss: 0.5921\n",
      "Epoch 25/40\n",
      "500/500 [==============================] - 42s 84ms/step - loss: 0.0692 - val_loss: 0.6799\n",
      "Epoch 26/40\n",
      "500/500 [==============================] - 41s 83ms/step - loss: 0.0687 - val_loss: 0.6500\n",
      "Epoch 27/40\n",
      "500/500 [==============================] - 42s 83ms/step - loss: 0.0680 - val_loss: 0.7069\n",
      "Epoch 28/40\n",
      "500/500 [==============================] - 41s 81ms/step - loss: 0.0671 - val_loss: 0.8381\n",
      "Epoch 29/40\n",
      "500/500 [==============================] - 40s 80ms/step - loss: 0.0667 - val_loss: 0.6332\n",
      "Epoch 30/40\n",
      "500/500 [==============================] - 39s 78ms/step - loss: 0.0663 - val_loss: 0.5656\n",
      "Epoch 31/40\n",
      "500/500 [==============================] - 38s 77ms/step - loss: 0.0651 - val_loss: 0.6225\n",
      "Epoch 32/40\n",
      "500/500 [==============================] - 39s 77ms/step - loss: 0.0651 - val_loss: 0.6484\n",
      "Epoch 33/40\n",
      "500/500 [==============================] - 38s 77ms/step - loss: 0.0644 - val_loss: 0.6000\n",
      "Epoch 34/40\n",
      "500/500 [==============================] - 39s 77ms/step - loss: 0.0637 - val_loss: 0.7040\n",
      "Epoch 35/40\n",
      "500/500 [==============================] - 40s 80ms/step - loss: 0.0633 - val_loss: 0.6219\n",
      "Epoch 36/40\n",
      "500/500 [==============================] - 39s 79ms/step - loss: 0.0630 - val_loss: 0.5920\n",
      "Epoch 37/40\n",
      "500/500 [==============================] - 39s 77ms/step - loss: 0.0626 - val_loss: 0.6049\n",
      "Epoch 38/40\n",
      "500/500 [==============================] - 39s 78ms/step - loss: 0.0624 - val_loss: 0.6123\n",
      "Epoch 39/40\n",
      "500/500 [==============================] - 38s 77ms/step - loss: 0.0618 - val_loss: 0.6293\n",
      "Epoch 40/40\n",
      "500/500 [==============================] - 39s 78ms/step - loss: 0.0611 - val_loss: 0.5860\n"
     ]
    }
   ],
   "source": [
    "model = Sequential()\n",
    "model.add(layers.Conv1D(32,5,activation='relu',input_shape=(None,float_data.shape[-1])))\n",
    "model.add(layers.MaxPooling1D(3))\n",
    "model.add(layers.Conv1D(32,5,activation='relu'))\n",
    "model.add(layers.LSTM(32,\n",
    "                     dropout=0.2,\n",
    "                     recurrent_dropout=0.2,\n",
    "                     input_shape=(None, float_data.shape[-1])))\n",
    "\n",
    "model.add(layers.Dense(1))\n",
    "\n",
    "model.compile(optimizer=RMSprop(), loss='mae')\n",
    "\n",
    "history = model.fit_generator(train_gen,\n",
    "                              steps_per_epoch=500,\n",
    "                              epochs=40,\n",
    "                              validation_data=val_gen,\n",
    "                              validation_steps=val_steps)"
   ]
  },
  {
   "cell_type": "markdown",
   "metadata": {},
   "source": [
    "**결과 확인**  \n",
    "기존의 LSTM Model + Dropout Model보다 성능은 좋아졌지만 **GRU + Dropout + 스태킹 순환 층(stacking recurrnet layer) + 양방향 순환 층(bidirectional recurrent layer)** 와 같이 많은 Model 향상을 위하여 추가한 제약사항의 Model보다는 성능이 떨어지는 것을 확인할 수 있다.  \n",
    "하지만 TimeStep을 1/2로하여 2배 많은 Data에 대해서 LSTM Model + Dropout Model과 비슷한 시간으로 Training가능한 것을 통해 많은 양의 Data를 처리할 수 있는 것을 알 수 있다."
   ]
  },
  {
   "cell_type": "code",
   "execution_count": 81,
   "metadata": {},
   "outputs": [
    {
     "data": {
      "image/png": "[encoded data removed]",
      "text/plain": [
       "<Figure size 432x288 with 1 Axes>"
      ]
     },
     "metadata": {
      "needs_background": "light"
     },
     "output_type": "display_data"
    }
   ],
   "source": [
    "history_dict = history.history\n",
    "\n",
    "loss = history_dict['loss']\n",
    "val_loss = history_dict['val_loss']\n",
    "\n",
    "epoch = range(1,len(loss)+1)\n",
    "\n",
    "plt.plot(epoch,loss,'bo',label='Training Loss')\n",
    "plt.plot(epoch,val_loss,'b',label='Validation Loss')\n",
    "plt.title('Training and Validation Loss Visualization')\n",
    "\n",
    "plt.xlabel('Epoch')\n",
    "plt.ylabel('Loss')\n",
    "plt.legend()\n",
    "\n",
    "plt.show()"
   ]
  }
 ],
 "metadata": {
  "kernelspec": {
   "display_name": "Python 3",
   "language": "python",
   "name": "python3"
  },
  "language_info": {
   "codemirror_mode": {
    "name": "ipython",
    "version": 3
   },
   "file_extension": ".py",
   "mimetype": "text/x-python",
   "name": "python",
   "nbconvert_exporter": "python",
   "pygments_lexer": "ipython3",
   "version": "3.6.9"
  }
 },
 "nbformat": 4,
 "nbformat_minor": 2
}
