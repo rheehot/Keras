{
 "cells": [
  {
   "cell_type": "markdown",
   "metadata": {},
   "source": [
    "### Keras 기초(Mnist)\n",
    "\n",
    "#### 필요한 라이브러리 Import"
   ]
  },
  {
   "cell_type": "code",
   "execution_count": 9,
   "metadata": {},
   "outputs": [],
   "source": [
    "from keras.datasets import mnist\n",
    "from keras.utils import to_categorical\n",
    "from keras import models\n",
    "from keras import layers"
   ]
  },
  {
   "cell_type": "markdown",
   "metadata": {},
   "source": [
    "#### Mnist Data\n",
    "Mnist Data를 다운받고 Train 시키기한 과정"
   ]
  },
  {
   "cell_type": "code",
   "execution_count": 5,
   "metadata": {},
   "outputs": [
    {
     "name": "stdout",
     "output_type": "stream",
     "text": [
      "(60000, 28, 28)\n",
      "60000\n"
     ]
    }
   ],
   "source": [
    "(train_images, train_labels),(test_images,test_labels) = mnist.load_data()\n",
    "\n",
    "print(train_images.shape)\n",
    "print(len(train_labels))"
   ]
  },
  {
   "cell_type": "markdown",
   "metadata": {},
   "source": [
    "#### Network 구성\n",
    "network는 <code>models.Sequential()</code>로서 구성  \n",
    "Network안의 Layer는 <code>models.add()</code>로서 Layer를 Network에 추가한다.  \n",
    "하나의 완전연결 Layer는 <code>layer.Dense()</code>로서 Layer를 구성한다.  \n",
    "\n",
    "**Layer.Dense() Parameter**\n",
    "- units: Output의 차원\n",
    "- activation: Activation Function\n",
    "- use_bias: Bias사용 여부\n",
    "- input_shape: Input Shape, 아래 코드에서는 Train Image의 Size인 28 * 28로서 선언하였고 Batch Size나 Channel은 알아서 맞춰 들어가게 된다.\n",
    "\n"
   ]
  },
  {
   "cell_type": "code",
   "execution_count": 7,
   "metadata": {},
   "outputs": [],
   "source": [
    "network=models.Sequential()\n",
    "network.add(layers.Dense(512,activation='relu',input_shape=(28*28,)))\n",
    "network.add(layers.Dense(10,activation='softmax'))"
   ]
  },
  {
   "cell_type": "markdown",
   "metadata": {},
   "source": [
    "#### Compile 구성\n",
    "Tensorflow와 달리 **Keras는 network.compile()을 통하여 Optimizer, Loss Function, Trainning을 시킬 Object를 한꺼번에 선언한다.**"
   ]
  },
  {
   "cell_type": "code",
   "execution_count": 8,
   "metadata": {},
   "outputs": [],
   "source": [
    "network.compile(optimizer='rmsprop',loss='categorical_crossentropy',metrics=['accuracy'])"
   ]
  },
  {
   "cell_type": "markdown",
   "metadata": {},
   "source": [
    "#### Dataset 준비\n",
    "1. 이미지 데이터는 0 ~ 255사이의 값을 가지는 RGB 형태의 Image이므로 0 ~ 1 사이의 값으로 변환\n",
    "2. <code>keras.np_utils.categorical()</code>을 통하여 One-Hot-Encoding으로서 변환\n",
    "\n"
   ]
  },
  {
   "cell_type": "code",
   "execution_count": 10,
   "metadata": {},
   "outputs": [],
   "source": [
    "train_images = train_images.reshape((60000,28*28))\n",
    "train_images = train_images.astype('float32') / 255\n",
    "\n",
    "test_images = test_images.reshape((10000,28*28))\n",
    "test_images = test_images.astype('float32') / 255\n",
    "\n",
    "train_labels = to_categorical(train_labels)\n",
    "test_labels = to_categorical(test_labels)"
   ]
  },
  {
   "cell_type": "markdown",
   "metadata": {},
   "source": [
    "### Train 및 결과 확인\n",
    "**Keras는 Tensorflow와 달리 Session을 열고 닫고 변수를 초기화 하는 과정을 거치면서 Trainning할 필요가 없다. 그저 <code>network.fit()</code>으로서 Network를 Trainning을 시키고 <code>network.evaluate()</code>를 통하여 TestData에 대하여 평가를 한다.**  \n",
    "\n",
    "구성한 Network는 <code>network.summary()</code>를 통하여 Network의 구조를 간단히 확인할 수 있다."
   ]
  },
  {
   "cell_type": "code",
   "execution_count": 11,
   "metadata": {},
   "outputs": [
    {
     "name": "stdout",
     "output_type": "stream",
     "text": [
      "Model: \"sequential_1\"\n",
      "_________________________________________________________________\n",
      "Layer (type)                 Output Shape              Param #   \n",
      "=================================================================\n",
      "dense_1 (Dense)              (None, 512)               401920    \n",
      "_________________________________________________________________\n",
      "dense_2 (Dense)              (None, 10)                5130      \n",
      "=================================================================\n",
      "Total params: 407,050\n",
      "Trainable params: 407,050\n",
      "Non-trainable params: 0\n",
      "_________________________________________________________________\n",
      "None\n"
     ]
    },
    {
     "name": "stderr",
     "output_type": "stream",
     "text": [
      "WARNING: Logging before flag parsing goes to stderr.\n",
      "W1126 00:44:07.153418 139710361872192 deprecation_wrapper.py:119] From /home/jovyan/.local/lib/python2.7/site-packages/keras/backend/tensorflow_backend.py:422: The name tf.global_variables is deprecated. Please use tf.compat.v1.global_variables instead.\n",
      "\n"
     ]
    },
    {
     "name": "stdout",
     "output_type": "stream",
     "text": [
      "Epoch 1/5\n",
      "60000/60000 [==============================] - 1s 18us/step - loss: 0.2548 - accuracy: 0.9263\n",
      "Epoch 2/5\n",
      "60000/60000 [==============================] - 1s 16us/step - loss: 0.1038 - accuracy: 0.9694\n",
      "Epoch 3/5\n",
      "60000/60000 [==============================] - 1s 15us/step - loss: 0.0686 - accuracy: 0.9798\n",
      "Epoch 4/5\n",
      "60000/60000 [==============================] - 1s 17us/step - loss: 0.0497 - accuracy: 0.9852\n",
      "Epoch 5/5\n",
      "60000/60000 [==============================] - 1s 15us/step - loss: 0.0380 - accuracy: 0.9881\n",
      "10000/10000 [==============================] - 1s 55us/step\n",
      "('test_acc = ', 0.9812999963760376)\n"
     ]
    }
   ],
   "source": [
    "print(network.summary())\n",
    "network.fit(train_images,train_labels,epochs=5,batch_size=128)\n",
    "test_loss,test_acc = network.evaluate(test_images,test_labels)\n",
    "print('test_acc = ',test_acc)"
   ]
  }
 ],
 "metadata": {
  "kernelspec": {
   "display_name": "Python 2",
   "language": "python",
   "name": "python2"
  },
  "language_info": {
   "codemirror_mode": {
    "name": "ipython",
    "version": 2
   },
   "file_extension": ".py",
   "mimetype": "text/x-python",
   "name": "python",
   "nbconvert_exporter": "python",
   "pygments_lexer": "ipython2",
   "version": "2.7.15+"
  }
 },
 "nbformat": 4,
 "nbformat_minor": 2
}
